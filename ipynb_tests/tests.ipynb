{
 "cells": [
  {
   "cell_type": "code",
   "execution_count": 1,
   "metadata": {
    "ExecuteTime": {
     "end_time": "2023-07-20T14:35:38.335252Z",
     "start_time": "2023-07-20T14:35:35.916039Z"
    }
   },
   "outputs": [],
   "source": [
    "import sys\n",
    "sys.path.insert(0, '/Users/alamf/1Jupyter/current_projects/vff_tn_v2')\n",
    "from nodewise_train import *\n",
    "import matplotlib.pyplot as plt"
   ]
  },
  {
   "cell_type": "markdown",
   "metadata": {
    "heading_collapsed": true
   },
   "source": [
    "# Node tests"
   ]
  },
  {
   "cell_type": "code",
   "execution_count": 2,
   "metadata": {
    "ExecuteTime": {
     "end_time": "2023-07-18T16:48:49.772695Z",
     "start_time": "2023-07-18T16:48:49.750701Z"
    },
    "hidden": true
   },
   "outputs": [],
   "source": [
    "data = np.random.rand(256,256,2,2)\n",
    "a = group_ind(group_ind(data, 0, 3), 1,2)"
   ]
  },
  {
   "cell_type": "code",
   "execution_count": 3,
   "metadata": {
    "ExecuteTime": {
     "end_time": "2023-07-18T16:48:50.123843Z",
     "start_time": "2023-07-18T16:48:50.108398Z"
    },
    "hidden": true
   },
   "outputs": [],
   "source": [
    "b = ungroup_ind(ungroup_ind(a, 1, 2, 2), 0, 2, 3)"
   ]
  },
  {
   "cell_type": "code",
   "execution_count": 4,
   "metadata": {
    "ExecuteTime": {
     "end_time": "2023-07-18T16:48:50.505410Z",
     "start_time": "2023-07-18T16:48:50.458913Z"
    },
    "hidden": true
   },
   "outputs": [
    {
     "data": {
      "text/plain": [
       "array([[[[0., 0.],\n",
       "         [0., 0.]],\n",
       "\n",
       "        [[0., 0.],\n",
       "         [0., 0.]],\n",
       "\n",
       "        [[0., 0.],\n",
       "         [0., 0.]],\n",
       "\n",
       "        ...,\n",
       "\n",
       "        [[0., 0.],\n",
       "         [0., 0.]],\n",
       "\n",
       "        [[0., 0.],\n",
       "         [0., 0.]],\n",
       "\n",
       "        [[0., 0.],\n",
       "         [0., 0.]]],\n",
       "\n",
       "\n",
       "       [[[0., 0.],\n",
       "         [0., 0.]],\n",
       "\n",
       "        [[0., 0.],\n",
       "         [0., 0.]],\n",
       "\n",
       "        [[0., 0.],\n",
       "         [0., 0.]],\n",
       "\n",
       "        ...,\n",
       "\n",
       "        [[0., 0.],\n",
       "         [0., 0.]],\n",
       "\n",
       "        [[0., 0.],\n",
       "         [0., 0.]],\n",
       "\n",
       "        [[0., 0.],\n",
       "         [0., 0.]]],\n",
       "\n",
       "\n",
       "       [[[0., 0.],\n",
       "         [0., 0.]],\n",
       "\n",
       "        [[0., 0.],\n",
       "         [0., 0.]],\n",
       "\n",
       "        [[0., 0.],\n",
       "         [0., 0.]],\n",
       "\n",
       "        ...,\n",
       "\n",
       "        [[0., 0.],\n",
       "         [0., 0.]],\n",
       "\n",
       "        [[0., 0.],\n",
       "         [0., 0.]],\n",
       "\n",
       "        [[0., 0.],\n",
       "         [0., 0.]]],\n",
       "\n",
       "\n",
       "       ...,\n",
       "\n",
       "\n",
       "       [[[0., 0.],\n",
       "         [0., 0.]],\n",
       "\n",
       "        [[0., 0.],\n",
       "         [0., 0.]],\n",
       "\n",
       "        [[0., 0.],\n",
       "         [0., 0.]],\n",
       "\n",
       "        ...,\n",
       "\n",
       "        [[0., 0.],\n",
       "         [0., 0.]],\n",
       "\n",
       "        [[0., 0.],\n",
       "         [0., 0.]],\n",
       "\n",
       "        [[0., 0.],\n",
       "         [0., 0.]]],\n",
       "\n",
       "\n",
       "       [[[0., 0.],\n",
       "         [0., 0.]],\n",
       "\n",
       "        [[0., 0.],\n",
       "         [0., 0.]],\n",
       "\n",
       "        [[0., 0.],\n",
       "         [0., 0.]],\n",
       "\n",
       "        ...,\n",
       "\n",
       "        [[0., 0.],\n",
       "         [0., 0.]],\n",
       "\n",
       "        [[0., 0.],\n",
       "         [0., 0.]],\n",
       "\n",
       "        [[0., 0.],\n",
       "         [0., 0.]]],\n",
       "\n",
       "\n",
       "       [[[0., 0.],\n",
       "         [0., 0.]],\n",
       "\n",
       "        [[0., 0.],\n",
       "         [0., 0.]],\n",
       "\n",
       "        [[0., 0.],\n",
       "         [0., 0.]],\n",
       "\n",
       "        ...,\n",
       "\n",
       "        [[0., 0.],\n",
       "         [0., 0.]],\n",
       "\n",
       "        [[0., 0.],\n",
       "         [0., 0.]],\n",
       "\n",
       "        [[0., 0.],\n",
       "         [0., 0.]]]])"
      ]
     },
     "execution_count": 4,
     "metadata": {},
     "output_type": "execute_result"
    }
   ],
   "source": [
    "data-b"
   ]
  },
  {
   "cell_type": "code",
   "execution_count": 5,
   "metadata": {
    "ExecuteTime": {
     "end_time": "2023-07-18T16:48:52.688610Z",
     "start_time": "2023-07-18T16:48:52.673611Z"
    },
    "hidden": true
   },
   "outputs": [],
   "source": [
    "# test svd()\n",
    "# test conj()"
   ]
  },
  {
   "cell_type": "markdown",
   "metadata": {
    "heading_collapsed": true
   },
   "source": [
    "# MPO tests"
   ]
  },
  {
   "cell_type": "code",
   "execution_count": 6,
   "metadata": {
    "ExecuteTime": {
     "end_time": "2023-07-18T16:49:03.391184Z",
     "start_time": "2023-07-18T16:49:03.294255Z"
    },
    "hidden": true
   },
   "outputs": [
    {
     "data": {
      "text/plain": [
       "0.0"
      ]
     },
     "execution_count": 6,
     "metadata": {},
     "output_type": "execute_result"
    }
   ],
   "source": [
    "# testing to_matrix()\n",
    "x = np.array([[0,1],[1,0]])\n",
    "x_tensor = x[np.newaxis,np.newaxis,:,:]\n",
    "node_list = [Node(x_tensor)] * 6\n",
    "mpo = MPO(node_list)\n",
    "np.linalg.norm(mpo.to_matrix() - np.kron(np.kron(np.kron(np.kron(np.kron(x,x),x),x),x),x))"
   ]
  },
  {
   "cell_type": "code",
   "execution_count": 7,
   "metadata": {
    "ExecuteTime": {
     "end_time": "2023-07-18T16:49:04.385873Z",
     "start_time": "2023-07-18T16:49:04.147156Z"
    },
    "hidden": true
   },
   "outputs": [
    {
     "data": {
      "text/plain": [
       "0.00010363898907931625"
      ]
     },
     "execution_count": 7,
     "metadata": {},
     "output_type": "execute_result"
    }
   ],
   "source": [
    "# testing @\n",
    "num_qubits = 8\n",
    "bond_dim = 10\n",
    "mpo1 = random_mpo(num_qubits, bond_dim)\n",
    "mpo2 = random_mpo(num_qubits, bond_dim)\n",
    "mat1 = mpo1.to_matrix()\n",
    "mat2 = mpo2.to_matrix()\n",
    "\n",
    "# the norm of an operator is a large number which is why this difference isn't as small as expected\n",
    "np.linalg.norm((mpo1 @ mpo2).to_matrix() - (mat1 @ mat2))/(2**(num_qubits+1))"
   ]
  },
  {
   "cell_type": "code",
   "execution_count": 8,
   "metadata": {
    "ExecuteTime": {
     "end_time": "2023-07-18T16:49:07.632643Z",
     "start_time": "2023-07-18T16:49:07.565881Z"
    },
    "hidden": true
   },
   "outputs": [
    {
     "name": "stdout",
     "output_type": "stream",
     "text": [
      "[(1, 10, 2, 2), (10, 10, 2, 2), (10, 10, 2, 2), (10, 10, 2, 2), (10, 10, 2, 2), (10, 10, 2, 2), (10, 10, 2, 2), (10, 1, 2, 2)]\n",
      "[(1, 4, 2, 2), (4, 10, 2, 2), (10, 10, 2, 2), (10, 5, 2, 2), (5, 10, 2, 2), (10, 10, 2, 2), (10, 4, 2, 2), (4, 1, 2, 2)]\n"
     ]
    }
   ],
   "source": [
    "# testing compression with min_sv\n",
    "mpo3 = mpo1.compress(min_sv_ratio=0.01)\n",
    "print(mpo1.skeleton)\n",
    "print(mpo3.skeleton)"
   ]
  },
  {
   "cell_type": "code",
   "execution_count": 9,
   "metadata": {
    "ExecuteTime": {
     "end_time": "2023-07-18T16:49:10.898097Z",
     "start_time": "2023-07-18T16:49:10.883095Z"
    },
    "hidden": true
   },
   "outputs": [
    {
     "data": {
      "text/plain": [
       "6872.939596643401"
      ]
     },
     "execution_count": 9,
     "metadata": {},
     "output_type": "execute_result"
    }
   ],
   "source": [
    "# how much error does compression cause?\n",
    "np.linalg.norm(mpo3.to_matrix() - mpo1.to_matrix())"
   ]
  },
  {
   "cell_type": "code",
   "execution_count": 10,
   "metadata": {
    "ExecuteTime": {
     "end_time": "2023-07-18T16:49:12.383376Z",
     "start_time": "2023-07-18T16:49:12.370375Z"
    },
    "hidden": true
   },
   "outputs": [
    {
     "data": {
      "text/plain": [
       "[2.3468251380761203,\n",
       " 5.137537899154637,\n",
       " 8.070498758953425,\n",
       " 180.8946908327665,\n",
       " 23.452576490537112,\n",
       " 7.89164579388583,\n",
       " 5.401965152136969,\n",
       " 2.509939339968263]"
      ]
     },
     "execution_count": 10,
     "metadata": {},
     "output_type": "execute_result"
    }
   ],
   "source": [
    "# are weights unbalanced?\n",
    "mpo3.weights"
   ]
  },
  {
   "cell_type": "code",
   "execution_count": 11,
   "metadata": {
    "ExecuteTime": {
     "end_time": "2023-07-18T16:49:15.503850Z",
     "start_time": "2023-07-18T16:49:15.487849Z"
    },
    "hidden": true
   },
   "outputs": [
    {
     "name": "stdout",
     "output_type": "stream",
     "text": [
      "[(1, 10, 2, 2), (10, 10, 2, 2), (10, 10, 2, 2), (10, 10, 2, 2), (10, 10, 2, 2), (10, 10, 2, 2), (10, 10, 2, 2), (10, 1, 2, 2)]\n",
      "[(1, 3, 2, 2), (3, 3, 2, 2), (3, 3, 2, 2), (3, 3, 2, 2), (3, 3, 2, 2), (3, 3, 2, 2), (3, 3, 2, 2), (3, 1, 2, 2)]\n"
     ]
    }
   ],
   "source": [
    "# testing compression with max_dim\n",
    "mpo4 = mpo1.compress(max_dim=3)\n",
    "print(mpo1.skeleton)\n",
    "print(mpo4.skeleton)"
   ]
  },
  {
   "cell_type": "code",
   "execution_count": 12,
   "metadata": {
    "ExecuteTime": {
     "end_time": "2023-07-18T16:49:22.377506Z",
     "start_time": "2023-07-18T16:49:22.354482Z"
    },
    "hidden": true
   },
   "outputs": [
    {
     "data": {
      "text/plain": [
       "-7.275957614183426e-12"
      ]
     },
     "execution_count": 12,
     "metadata": {},
     "output_type": "execute_result"
    }
   ],
   "source": [
    "# testing trace()\n",
    "mat1 = mpo1.to_matrix()\n",
    "mat2 = mpo2.to_matrix()\n",
    "mpo1.trace() - np.trace(mat1)/(2**(mpo1.num_nodes))"
   ]
  },
  {
   "cell_type": "code",
   "execution_count": 13,
   "metadata": {
    "ExecuteTime": {
     "end_time": "2023-07-18T16:49:25.319357Z",
     "start_time": "2023-07-18T16:49:25.278139Z"
    },
    "hidden": true
   },
   "outputs": [
    {
     "data": {
      "text/plain": [
       "6.103515625e-05"
      ]
     },
     "execution_count": 13,
     "metadata": {},
     "output_type": "execute_result"
    }
   ],
   "source": [
    "(mpo1 @ mpo2).trace() - mpo1.mult_and_trace(mpo2)[0,0,0,0]"
   ]
  },
  {
   "cell_type": "code",
   "execution_count": 16,
   "metadata": {
    "ExecuteTime": {
     "end_time": "2023-07-18T16:49:49.002185Z",
     "start_time": "2023-07-18T16:49:41.617192Z"
    },
    "hidden": true
   },
   "outputs": [
    {
     "name": "stdout",
     "output_type": "stream",
     "text": [
      "89.3 ms ± 9.09 ms per loop (mean ± std. dev. of 7 runs, 10 loops each)\n"
     ]
    }
   ],
   "source": [
    "%timeit (mpo1@mpo2).compress(max_dim=bond_dim).trace()"
   ]
  },
  {
   "cell_type": "code",
   "execution_count": 17,
   "metadata": {
    "ExecuteTime": {
     "end_time": "2023-07-18T16:49:56.225412Z",
     "start_time": "2023-07-18T16:49:49.009187Z"
    },
    "hidden": true
   },
   "outputs": [
    {
     "name": "stdout",
     "output_type": "stream",
     "text": [
      "813 µs ± 117 µs per loop (mean ± std. dev. of 7 runs, 1,000 loops each)\n"
     ]
    }
   ],
   "source": [
    "%timeit mpo1.mult_and_trace(mpo2)"
   ]
  },
  {
   "cell_type": "code",
   "execution_count": 18,
   "metadata": {
    "ExecuteTime": {
     "end_time": "2023-07-18T16:49:57.605045Z",
     "start_time": "2023-07-18T16:49:57.538408Z"
    },
    "hidden": true
   },
   "outputs": [
    {
     "data": {
      "text/plain": [
       "2.6360082552118785e-05"
      ]
     },
     "execution_count": 18,
     "metadata": {},
     "output_type": "execute_result"
    }
   ],
   "source": [
    "np.linalg.norm(MPO(mpo1.nodes[1:]).mult_and_trace(MPO(mpo2.nodes[1:])) - MPO(mpo1.nodes[1:]).mult_and_trace(MPO(mpo2.nodes[1:]), start='bottom'))"
   ]
  },
  {
   "cell_type": "code",
   "execution_count": 19,
   "metadata": {
    "ExecuteTime": {
     "end_time": "2023-07-18T16:50:04.259718Z",
     "start_time": "2023-07-18T16:50:01.237517Z"
    },
    "hidden": true
   },
   "outputs": [
    {
     "name": "stdout",
     "output_type": "stream",
     "text": [
      "37.8 ms ± 5.88 ms per loop (mean ± std. dev. of 7 runs, 10 loops each)\n"
     ]
    }
   ],
   "source": [
    "%timeit MPO(mpo1.nodes[1:]).mult_and_trace(MPO(mpo2.nodes[1:]))"
   ]
  },
  {
   "cell_type": "code",
   "execution_count": 20,
   "metadata": {
    "ExecuteTime": {
     "end_time": "2023-07-18T16:50:09.346811Z",
     "start_time": "2023-07-18T16:50:04.259718Z"
    },
    "hidden": true
   },
   "outputs": [
    {
     "name": "stdout",
     "output_type": "stream",
     "text": [
      "613 µs ± 31.7 µs per loop (mean ± std. dev. of 7 runs, 1,000 loops each)\n"
     ]
    }
   ],
   "source": [
    "%timeit MPO(mpo1.nodes[1:]).mult_and_trace(MPO(mpo2.nodes[1:]), start='bottom')"
   ]
  },
  {
   "cell_type": "markdown",
   "metadata": {
    "heading_collapsed": true,
    "hidden": true
   },
   "source": [
    "## Known issue with compression "
   ]
  },
  {
   "cell_type": "code",
   "execution_count": 16,
   "metadata": {
    "ExecuteTime": {
     "end_time": "2023-07-07T02:02:45.699921Z",
     "start_time": "2023-07-07T02:02:45.686924Z"
    },
    "hidden": true
   },
   "outputs": [],
   "source": [
    "# compression changes the norm of the MPO\n",
    "# for some reason lowering bond dimension lowers the norm of the MPO \n",
    "# but throwing out sv's below some threshold raises the norm of the MPO?!\n",
    "# this could be because max_dim sets the dimension of all sites equal to each other \n",
    "# min_sv_ratio instead produces a staircase structure with the bond dimensions"
   ]
  },
  {
   "cell_type": "markdown",
   "metadata": {
    "heading_collapsed": true
   },
   "source": [
    "# Model tests"
   ]
  },
  {
   "cell_type": "code",
   "execution_count": 21,
   "metadata": {
    "ExecuteTime": {
     "end_time": "2023-07-18T16:50:20.597645Z",
     "start_time": "2023-07-18T16:50:20.550614Z"
    },
    "hidden": true
   },
   "outputs": [
    {
     "data": {
      "text/plain": [
       "2.220446049250313e-16"
      ]
     },
     "execution_count": 21,
     "metadata": {},
     "output_type": "execute_result"
    }
   ],
   "source": [
    "# does gate_to_nodes turn xy evolution into MPO properly?\n",
    "t = 0.1\n",
    "mat = xy_gate(t)\n",
    "node1, node2 = gate_to_nodes(mat)\n",
    "mpo = MPO([node1, node2])\n",
    "mpo_mat = mpo.to_matrix()\n",
    "np.linalg.norm(mat - mpo_mat)"
   ]
  },
  {
   "cell_type": "code",
   "execution_count": 22,
   "metadata": {
    "ExecuteTime": {
     "end_time": "2023-07-18T16:50:21.202556Z",
     "start_time": "2023-07-18T16:50:21.170260Z"
    },
    "hidden": true
   },
   "outputs": [
    {
     "data": {
      "text/plain": [
       "[(1, 4, 2, 2),\n",
       " (4, 1, 2, 2),\n",
       " (1, 4, 2, 2),\n",
       " (4, 1, 2, 2),\n",
       " (1, 4, 2, 2),\n",
       " (4, 1, 2, 2),\n",
       " (1, 4, 2, 2),\n",
       " (4, 1, 2, 2),\n",
       " (1, 4, 2, 2),\n",
       " (4, 1, 2, 2)]"
      ]
     },
     "execution_count": 22,
     "metadata": {},
     "output_type": "execute_result"
    }
   ],
   "source": [
    "# does zeroth layer have proper structure?\n",
    "num_qubits = 10\n",
    "zeroth_layer = xy_even_layer_mpo(num_qubits,t)\n",
    "zeroth_layer.skeleton"
   ]
  },
  {
   "cell_type": "code",
   "execution_count": 23,
   "metadata": {
    "ExecuteTime": {
     "end_time": "2023-07-18T16:50:22.059571Z",
     "start_time": "2023-07-18T16:50:22.037616Z"
    },
    "hidden": true
   },
   "outputs": [
    {
     "data": {
      "text/plain": [
       "[(1, 1, 2, 2),\n",
       " (1, 4, 2, 2),\n",
       " (4, 1, 2, 2),\n",
       " (1, 4, 2, 2),\n",
       " (4, 1, 2, 2),\n",
       " (1, 4, 2, 2),\n",
       " (4, 1, 2, 2),\n",
       " (1, 4, 2, 2),\n",
       " (4, 1, 2, 2),\n",
       " (1, 1, 2, 2)]"
      ]
     },
     "execution_count": 23,
     "metadata": {},
     "output_type": "execute_result"
    }
   ],
   "source": [
    "# does first layer have proper structure?\n",
    "first_layer = xy_odd_layer_mpo(num_qubits,t)\n",
    "first_layer.skeleton"
   ]
  },
  {
   "cell_type": "code",
   "execution_count": 29,
   "metadata": {
    "ExecuteTime": {
     "end_time": "2023-07-07T02:05:02.207585Z",
     "start_time": "2023-07-07T02:04:48.840529Z"
    },
    "hidden": true
   },
   "outputs": [
    {
     "name": "stderr",
     "output_type": "stream",
     "text": [
      "100%|██████████████████████████████████████████████████████████████████████████████████| 10/10 [00:12<00:00,  1.23s/it]\n"
     ]
    }
   ],
   "source": [
    "num_qubits = 10\n",
    "t = 0.1\n",
    "exact_operator = expm(1.j * t * xy_ham(num_qubits))\n",
    "errors_16 = []\n",
    "for i in tqdm(range(1,50,5)):\n",
    "    evolution_operator = xy_mpo(num_qubits,t,num_trotter_layers=i,max_dim=16)\n",
    "    errors_16.append(1-np.trace(exact_operator.conj().T @ evolution_operator.to_matrix()).real/(2**num_qubits))"
   ]
  },
  {
   "cell_type": "code",
   "execution_count": 30,
   "metadata": {
    "ExecuteTime": {
     "end_time": "2023-07-07T02:08:52.966874Z",
     "start_time": "2023-07-07T02:05:03.553671Z"
    },
    "hidden": true
   },
   "outputs": [
    {
     "name": "stderr",
     "output_type": "stream",
     "text": [
      "100%|██████████████████████████████████████████████████████████████████████████████████| 10/10 [03:48<00:00, 22.82s/it]\n"
     ]
    }
   ],
   "source": [
    "num_qubits = 10\n",
    "t = 0.1\n",
    "exact_operator = expm(1.j * t * xy_ham(num_qubits))\n",
    "errors_64 = []\n",
    "for i in tqdm(range(1,50,5)):\n",
    "    evolution_operator = xy_mpo(num_qubits,t,num_trotter_layers=i,max_dim=64)\n",
    "    errors_64.append(np.linalg.norm(exact_operator - evolution_operator.to_matrix()))"
   ]
  },
  {
   "cell_type": "code",
   "execution_count": 31,
   "metadata": {
    "ExecuteTime": {
     "end_time": "2023-07-07T02:08:55.732119Z",
     "start_time": "2023-07-07T02:08:55.719133Z"
    },
    "hidden": true
   },
   "outputs": [
    {
     "data": {
      "text/plain": [
       "([0.0007870037051587175,\n",
       "  8.80990669931414e-05,\n",
       "  0.0001288801122312222,\n",
       "  0.00014787628202628245,\n",
       "  0.00015858561650394787,\n",
       "  0.0001655083003981872,\n",
       "  0.00017035849358237876,\n",
       "  0.0001739469043355868,\n",
       "  0.00017671090419857372,\n",
       "  0.00017890418461508073],\n",
       " [1.2695603916955536,\n",
       "  0.21060756784196014,\n",
       "  0.11466832362571241,\n",
       "  0.07871006605903853,\n",
       "  0.05987504881541256,\n",
       "  0.04829203843080918,\n",
       "  0.04621253227339197,\n",
       "  0.041575558734621244,\n",
       "  0.03603327150453785,\n",
       "  0.033065899826076106])"
      ]
     },
     "execution_count": 31,
     "metadata": {},
     "output_type": "execute_result"
    }
   ],
   "source": [
    "errors_16, errors_64"
   ]
  },
  {
   "cell_type": "code",
   "execution_count": 32,
   "metadata": {
    "ExecuteTime": {
     "end_time": "2023-07-07T02:08:57.672024Z",
     "start_time": "2023-07-07T02:08:57.501310Z"
    },
    "hidden": true
   },
   "outputs": [
    {
     "data": {
      "text/plain": [
       "<matplotlib.legend.Legend at 0x1a718124fd0>"
      ]
     },
     "execution_count": 32,
     "metadata": {},
     "output_type": "execute_result"
    },
    {
     "data": {
      "image/png": "[encoded data removed]",
      "text/plain": [
       "<Figure size 432x288 with 1 Axes>"
      ]
     },
     "metadata": {
      "needs_background": "light"
     },
     "output_type": "display_data"
    }
   ],
   "source": [
    "plt.plot(np.arange(1,50,5), errors_16, label='max bond dim = 16')\n",
    "plt.plot(np.arange(1,50,5), errors_64, label='max bond dim = 64')\n",
    "plt.xlabel('number of Trotter layers')\n",
    "plt.ylabel('error')\n",
    "plt.title('t=0.1')\n",
    "plt.legend(loc='best')"
   ]
  },
  {
   "cell_type": "code",
   "execution_count": 35,
   "metadata": {
    "ExecuteTime": {
     "end_time": "2023-07-07T02:09:36.459465Z",
     "start_time": "2023-07-07T02:09:32.405112Z"
    },
    "hidden": true
   },
   "outputs": [
    {
     "name": "stderr",
     "output_type": "stream",
     "text": [
      "100%|███████████████████████████████████████████████████████████████████████████████████| 5/5 [00:00<00:00, 249.57it/s]\n"
     ]
    },
    {
     "name": "stdout",
     "output_type": "stream",
     "text": [
      "1.5576682831405805e-15 7.788341415702903e-16 1\n"
     ]
    },
    {
     "name": "stderr",
     "output_type": "stream",
     "text": [
      "100%|████████████████████████████████████████████████████████████████████████████████████| 5/5 [00:00<00:00, 86.27it/s]\n"
     ]
    },
    {
     "name": "stdout",
     "output_type": "stream",
     "text": [
      "0.008815300822120228 0.002203825205530057 9\n"
     ]
    },
    {
     "name": "stderr",
     "output_type": "stream",
     "text": [
      "100%|████████████████████████████████████████████████████████████████████████████████████| 5/5 [00:00<00:00, 27.38it/s]\n"
     ]
    },
    {
     "name": "stdout",
     "output_type": "stream",
     "text": [
      "0.024871680418529874 0.0031089600523162347 9\n"
     ]
    },
    {
     "name": "stderr",
     "output_type": "stream",
     "text": [
      "100%|████████████████████████████████████████████████████████████████████████████████████| 5/5 [00:00<00:00,  9.77it/s]\n"
     ]
    },
    {
     "name": "stdout",
     "output_type": "stream",
     "text": [
      "0.10476534476343542 0.006547834047714714 7\n"
     ]
    },
    {
     "name": "stderr",
     "output_type": "stream",
     "text": [
      "100%|████████████████████████████████████████████████████████████████████████████████████| 5/5 [00:01<00:00,  2.62it/s]"
     ]
    },
    {
     "name": "stdout",
     "output_type": "stream",
     "text": [
      "0.32571577540624463 0.01017861798144516 5\n"
     ]
    },
    {
     "name": "stderr",
     "output_type": "stream",
     "text": [
      "\n"
     ]
    }
   ],
   "source": [
    "# for a fixed bond dimension and t what if I increase system size?\n",
    "max_dim = 20\n",
    "t = 0.1\n",
    "\n",
    "min_err = []\n",
    "min_err_normalized = []\n",
    "opt_r = []\n",
    "for num_qubits in range(2,12,2):\n",
    "    exact_operator = expm(1.j * t * xy_ham(num_qubits))\n",
    "    errors_20 = []\n",
    "    for i in tqdm(range(1,10,2)):\n",
    "        evolution_operator = xy_mpo(num_qubits,t,num_trotter_layers=i,max_dim=20)\n",
    "        errors_20.append(np.linalg.norm(exact_operator - evolution_operator.to_matrix()))\n",
    "        \n",
    "    err = min(errors_20)\n",
    "    min_err.append(err)\n",
    "    min_err_normalized.append(err/np.linalg.norm(exact_operator))\n",
    "    opt_r.append(np.arange(1,50,2)[errors_20.index(err)])\n",
    "    \n",
    "    \n",
    "    print(min_err[-1], min_err_normalized[-1] ,opt_r[-1])"
   ]
  },
  {
   "cell_type": "code",
   "execution_count": 36,
   "metadata": {
    "ExecuteTime": {
     "end_time": "2023-07-07T02:09:41.101625Z",
     "start_time": "2023-07-07T02:09:40.954799Z"
    },
    "hidden": true
   },
   "outputs": [
    {
     "data": {
      "text/plain": [
       "Text(0.5, 0, 'number of qubits')"
      ]
     },
     "execution_count": 36,
     "metadata": {},
     "output_type": "execute_result"
    },
    {
     "data": {
      "image/png": "[encoded data removed]",
      "text/plain": [
       "<Figure size 432x288 with 1 Axes>"
      ]
     },
     "metadata": {
      "needs_background": "light"
     },
     "output_type": "display_data"
    }
   ],
   "source": [
    "plt.plot(np.arange(2,12,2), min_err_normalized)\n",
    "plt.ylabel('normalized error')\n",
    "plt.xlabel('number of qubits')"
   ]
  },
  {
   "cell_type": "code",
   "execution_count": 37,
   "metadata": {
    "ExecuteTime": {
     "end_time": "2023-07-07T02:10:22.992915Z",
     "start_time": "2023-07-07T02:09:57.269925Z"
    },
    "hidden": true
   },
   "outputs": [],
   "source": [
    "# using large bond dimension MPO as a benchmark to find optimal r\n",
    "num_qubits = 10\n",
    "t = 0.1\n",
    "benchmark_mpo = xy_mpo(num_qubits, t, num_trotter_layers=20, max_dim=100)"
   ]
  },
  {
   "cell_type": "code",
   "execution_count": 40,
   "metadata": {
    "ExecuteTime": {
     "end_time": "2023-07-07T02:11:00.050448Z",
     "start_time": "2023-07-07T02:10:42.020750Z"
    },
    "hidden": true
   },
   "outputs": [
    {
     "name": "stderr",
     "output_type": "stream",
     "text": [
      "100%|████████████████████████████████████████████████████████████████████████████████████| 6/6 [00:17<00:00,  3.00s/it]\n"
     ]
    }
   ],
   "source": [
    "errors_16 = []\n",
    "for i in tqdm(range(1,12,2)):\n",
    "    evolution_operator = xy_mpo(num_qubits,t,num_trotter_layers=i,max_dim=16)\n",
    "    errors_16.append(1-(evolution_operator.conj() @ benchmark_mpo).normalized_trace().real)"
   ]
  },
  {
   "cell_type": "code",
   "execution_count": 41,
   "metadata": {
    "ExecuteTime": {
     "end_time": "2023-07-07T02:11:01.899067Z",
     "start_time": "2023-07-07T02:11:01.773389Z"
    },
    "hidden": true
   },
   "outputs": [
    {
     "data": {
      "text/plain": [
       "[<matplotlib.lines.Line2D at 0x1a7182684c0>]"
      ]
     },
     "execution_count": 41,
     "metadata": {},
     "output_type": "execute_result"
    },
    {
     "data": {
      "image/png": "[encoded data removed]",
      "text/plain": [
       "<Figure size 432x288 with 1 Axes>"
      ]
     },
     "metadata": {
      "needs_background": "light"
     },
     "output_type": "display_data"
    }
   ],
   "source": [
    "plt.plot(np.arange(1,12,2), errors_16)"
   ]
  },
  {
   "cell_type": "code",
   "execution_count": 45,
   "metadata": {
    "ExecuteTime": {
     "end_time": "2023-07-07T02:11:42.852251Z",
     "start_time": "2023-07-07T02:11:39.912477Z"
    },
    "hidden": true
   },
   "outputs": [
    {
     "name": "stdout",
     "output_type": "stream",
     "text": [
      "0.5284167762721639\n"
     ]
    }
   ],
   "source": [
    "# if we already have the benchmark_mpo, why not truncate it? does it give worse result than truncating while constructing mpo?\n",
    "truncated_benchmark_mpo = benchmark_mpo.compress_symmetric(max_dim=16)\n",
    "print(1-(truncated_benchmark_mpo.conj() @ benchmark_mpo).normalized_trace().real)"
   ]
  },
  {
   "cell_type": "code",
   "execution_count": 46,
   "metadata": {
    "ExecuteTime": {
     "end_time": "2023-07-07T02:12:09.124705Z",
     "start_time": "2023-07-07T02:12:08.890626Z"
    },
    "hidden": true
   },
   "outputs": [
    {
     "data": {
      "text/plain": [
       "0.011357806324581735"
      ]
     },
     "execution_count": 46,
     "metadata": {},
     "output_type": "execute_result"
    }
   ],
   "source": [
    "np.linalg.norm(truncated_benchmark_mpo.to_matrix() - exact_operator) / (2**(num_qubits+1))"
   ]
  },
  {
   "cell_type": "code",
   "execution_count": 47,
   "metadata": {
    "ExecuteTime": {
     "end_time": "2023-07-07T02:12:12.318676Z",
     "start_time": "2023-07-07T02:12:11.999643Z"
    },
    "hidden": true
   },
   "outputs": [
    {
     "data": {
      "text/plain": [
       "0.00021609102980783517"
      ]
     },
     "execution_count": 47,
     "metadata": {},
     "output_type": "execute_result"
    }
   ],
   "source": [
    "evolution_operator = xy_mpo(num_qubits,t,num_trotter_layers=3,max_dim=16)\n",
    "np.linalg.norm(evolution_operator.to_matrix() - exact_operator) / (2**(num_qubits+1))"
   ]
  },
  {
   "cell_type": "code",
   "execution_count": null,
   "metadata": {
    "ExecuteTime": {
     "end_time": "2023-06-04T14:56:24.529344Z",
     "start_time": "2023-06-04T14:56:24.522397Z"
    },
    "hidden": true
   },
   "outputs": [],
   "source": [
    "### future developments: higher order Trotter (easy to implement) and Taylor expansion"
   ]
  },
  {
   "cell_type": "markdown",
   "metadata": {
    "heading_collapsed": true
   },
   "source": [
    "# Ansatz tests"
   ]
  },
  {
   "cell_type": "markdown",
   "metadata": {
    "heading_collapsed": true,
    "hidden": true
   },
   "source": [
    "## Ansatz methods"
   ]
  },
  {
   "cell_type": "code",
   "execution_count": 24,
   "metadata": {
    "ExecuteTime": {
     "end_time": "2023-07-18T16:50:37.056820Z",
     "start_time": "2023-07-18T16:50:37.030820Z"
    },
    "hidden": true
   },
   "outputs": [
    {
     "data": {
      "text/plain": [
       "([(1, 1, 2, 2), (1, 1, 2, 2), (1, 1, 2, 2), (1, 1, 2, 2)],\n",
       " [(1, 1, 2, 2), (1, 1, 2, 2), (1, 1, 2, 2), (1, 1, 2, 2)],\n",
       " [(1, 1, 2, 2), (1, 2, 2, 2), (2, 1, 2, 2), (1, 1, 2, 2)],\n",
       " [(1, 2, 2, 2), (2, 1, 2, 2), (1, 2, 2, 2), (2, 1, 2, 2)])"
      ]
     },
     "execution_count": 24,
     "metadata": {},
     "output_type": "execute_result"
    }
   ],
   "source": [
    "num_qubits = 4\n",
    "t = 0.1\n",
    "angles = np.asarray(np.random.rand(num_qubits) * 2 * np.pi)\n",
    "params = np.asarray(np.random.rand(3*num_qubits) * 2*np.pi) \n",
    "d = Rotation_MPO(t, angles)\n",
    "q = Single_Qubit_MPO(params)\n",
    "even = Entangling_MPO(num_qubits, 0)\n",
    "odd = Entangling_MPO(num_qubits, 1)\n",
    "\n",
    "d.skeleton, q.skeleton, even.skeleton, odd.skeleton"
   ]
  },
  {
   "cell_type": "code",
   "execution_count": 25,
   "metadata": {
    "ExecuteTime": {
     "end_time": "2023-07-18T16:50:37.548818Z",
     "start_time": "2023-07-18T16:50:37.524784Z"
    },
    "hidden": true
   },
   "outputs": [
    {
     "data": {
      "text/plain": [
       "1.6762276682678098e-15"
      ]
     },
     "execution_count": 25,
     "metadata": {},
     "output_type": "execute_result"
    }
   ],
   "source": [
    "# layers are in fact unitary\n",
    "layer = even @ q @ even \n",
    "approx_id = layer @ layer.conj()\n",
    "np.linalg.norm(approx_id.to_matrix() - np.eye(2**num_qubits))"
   ]
  },
  {
   "cell_type": "code",
   "execution_count": 26,
   "metadata": {
    "ExecuteTime": {
     "end_time": "2023-07-18T16:50:40.837137Z",
     "start_time": "2023-07-18T16:50:40.819882Z"
    },
    "hidden": true
   },
   "outputs": [
    {
     "data": {
      "text/plain": [
       "[<ansatz.Rotation_MPO at 0x1a3de890670>,\n",
       " <ansatz.Single_Qubit_MPO at 0x1a3de8906a0>,\n",
       " <ansatz.Single_Qubit_MPO at 0x1a3de88bc40>,\n",
       " <ansatz.Single_Qubit_MPO at 0x1a3de88b9a0>,\n",
       " <ansatz.Single_Qubit_MPO at 0x1a3dc4bf6d0>,\n",
       " <ansatz.Single_Qubit_MPO at 0x1a3dc4cfb80>]"
      ]
     },
     "execution_count": 26,
     "metadata": {},
     "output_type": "execute_result"
    }
   ],
   "source": [
    "# is ansatz built from the right stacks\n",
    "num_qubits = 4\n",
    "num_w_layers = 2\n",
    "t = 0.1\n",
    "\n",
    "angles = np.asarray(np.random.rand(num_qubits))\n",
    "params = np.asarray(np.random.rand(2*num_w_layers+1, 3*num_qubits)) \n",
    "ansatz = Ansatz(t, angles, params)\n",
    "ansatz.param_mpo_stacks"
   ]
  },
  {
   "cell_type": "code",
   "execution_count": 27,
   "metadata": {
    "ExecuteTime": {
     "end_time": "2023-07-18T16:50:43.414425Z",
     "start_time": "2023-07-18T16:50:43.363447Z"
    },
    "hidden": true
   },
   "outputs": [
    {
     "data": {
      "text/plain": [
       "2.8749768147071947e-14"
      ]
     },
     "execution_count": 27,
     "metadata": {},
     "output_type": "execute_result"
    }
   ],
   "source": [
    "# testing contraction of ansatz\n",
    "mpo = ansatz.mpo()\n",
    "\n",
    "mat_list = [mpo.to_matrix() for mpo in ansatz.param_mpo_stacks]\n",
    "odd_mat = ansatz.odd_mpo.to_matrix()\n",
    "even_mat = ansatz.even_mpo.to_matrix()\n",
    "\n",
    "w = mat_list[5] @ (even_mat @ mat_list[4] @ even_mat) @ (odd_mat @ mat_list[3] @ odd_mat) @ (even_mat @ mat_list[2] @ even_mat) @ (odd_mat @ mat_list[1] @ odd_mat)\n",
    "mat = w @ mat_list[0] @ w.conj().T\n",
    "np.linalg.norm(mat - mpo.to_matrix())"
   ]
  },
  {
   "cell_type": "code",
   "execution_count": 30,
   "metadata": {
    "ExecuteTime": {
     "end_time": "2023-07-18T16:51:03.705468Z",
     "start_time": "2023-07-18T16:51:03.687434Z"
    },
    "hidden": true
   },
   "outputs": [
    {
     "data": {
      "text/plain": [
       "(6, 4)"
      ]
     },
     "execution_count": 30,
     "metadata": {},
     "output_type": "execute_result"
    }
   ],
   "source": [
    "ansatz.num_stacks, ansatz.num_qubits"
   ]
  },
  {
   "cell_type": "markdown",
   "metadata": {
    "heading_collapsed": true,
    "hidden": true
   },
   "source": [
    "## Ansatz properties"
   ]
  },
  {
   "cell_type": "code",
   "execution_count": null,
   "metadata": {
    "ExecuteTime": {
     "end_time": "2023-06-30T18:57:55.982606Z",
     "start_time": "2023-06-30T18:57:55.947606Z"
    },
    "hidden": true
   },
   "outputs": [],
   "source": [
    "# are there lots of small singular values in WDW^d? \n",
    "num_qubits = 4\n",
    "num_w_layers = 1\n",
    "angles = np.asarray(np.random.rand(num_qubits))\n",
    "params = np.asarray(np.random.rand(2*num_w_layers+1, 3*num_qubits)) \n",
    "ansatz = Ansatz(t, angles, params)\n",
    "ansatz.mpo(min_sv_ratio=0.01).skeleton"
   ]
  },
  {
   "cell_type": "code",
   "execution_count": null,
   "metadata": {
    "ExecuteTime": {
     "end_time": "2023-06-30T18:57:40.662764Z",
     "start_time": "2023-06-30T18:57:40.662764Z"
    },
    "hidden": true
   },
   "outputs": [],
   "source": [
    "# as t becomes smaller W and W.conj() more or less cancel\n",
    "num_qubits = 4\n",
    "num_w_layers = 1\n",
    "t = 0.0001\n",
    "angles = jnp.asarray(np.random.rand(num_qubits))\n",
    "params = jnp.asarray(np.random.rand(2*num_w_layers+1, 3*num_qubits)) \n",
    "mpo = Ansatz(t, angles, params).mpo(min_sv_ratio=0.0001)\n",
    "np.linalg.norm(mpo.to_matrix() - np.eye(2**num_qubits))"
   ]
  },
  {
   "cell_type": "code",
   "execution_count": null,
   "metadata": {
    "ExecuteTime": {
     "end_time": "2023-06-30T18:57:40.664761Z",
     "start_time": "2023-06-30T18:57:40.664761Z"
    },
    "hidden": true
   },
   "outputs": [],
   "source": [
    "# how does bond dimension increase with number of layers\n",
    "num_qubits = 4\n",
    "num_w_layers = 3\n",
    "t = 0.1\n",
    "angles = jnp.asarray(np.random.rand(num_qubits))\n",
    "params = jnp.asarray(np.random.rand(2*num_w_layers+1, 3*num_qubits)) \n",
    "mpo = Ansatz(t, angles, params).mpo(min_sv_ratio=0.01)\n",
    "mpo.skeleton"
   ]
  },
  {
   "cell_type": "code",
   "execution_count": null,
   "metadata": {
    "ExecuteTime": {
     "end_time": "2023-06-08T14:22:39.906448Z",
     "start_time": "2023-06-08T14:18:48.111566Z"
    },
    "hidden": true
   },
   "outputs": [],
   "source": [
    "# how does bond dimension increase with system size\n",
    "t = 0.1\n",
    "min_sv_ratio = 0.1\n",
    "dim_list = []\n",
    "for num_qubits in tqdm(range(2,12,2)):\n",
    "    num_w_layers = num_qubits\n",
    "    angles = jnp.asarray(np.random.rand(num_qubits) * 2 * np.pi)\n",
    "    params_array = jnp.asarray(np.random.rand((num_qubits-1)*num_w_layers, 15) * 2*np.pi) \n",
    "    mpo = ansatz_mpo(t, angles, params_array, min_sv_ratio=min_sv_ratio)\n",
    "    dim_list.append(mpo.max_dim)   "
   ]
  },
  {
   "cell_type": "code",
   "execution_count": null,
   "metadata": {
    "ExecuteTime": {
     "end_time": "2023-06-06T03:44:59.521874Z",
     "start_time": "2023-06-06T03:41:09.476229Z"
    },
    "hidden": true
   },
   "outputs": [],
   "source": [
    "# timing computation of ansatz_mpo with num_w_layers (fixing error)\n",
    "num_qubits = 6\n",
    "t = 0.1\n",
    "\n",
    "angles = np.random.rand(num_qubits) * 2 * np.pi\n",
    "num_w_layers = 1\n",
    "params_array = np.random.rand(15, (num_qubits-1)*num_w_layers) * 2*np.pi \n",
    "a = %timeit ansatz_mpo(t, angles, params_array, min_sv=0.1)\n",
    "\n",
    "angles = np.random.rand(num_qubits) * 2 * np.pi\n",
    "num_w_layers = 2\n",
    "params_array = np.random.rand(15, (num_qubits-1)*num_w_layers) * 2*np.pi \n",
    "b = %timeit ansatz_mpo(t, angles, params_array, min_sv=0.1)\n",
    "\n",
    "angles = np.random.rand(num_qubits) * 2 * np.pi\n",
    "num_w_layers = 3\n",
    "params_array = np.random.rand(15, (num_qubits-1)*num_w_layers) * 2*np.pi \n",
    "c = %timeit ansatz_mpo(t, angles, params_array, min_sv=0.1)"
   ]
  },
  {
   "cell_type": "code",
   "execution_count": null,
   "metadata": {
    "ExecuteTime": {
     "end_time": "2023-06-06T03:45:31.365485Z",
     "start_time": "2023-06-06T03:44:59.524996Z"
    },
    "hidden": true
   },
   "outputs": [],
   "source": [
    "# timing computation of ansatz_mpo with num_w_layers (fixing bond dimension)\n",
    "num_qubits = 6\n",
    "t = 0.1\n",
    "\n",
    "angles = np.random.rand(num_qubits) * 2 * np.pi\n",
    "num_w_layers = 1\n",
    "params_array = np.random.rand(15, (num_qubits-1)*num_w_layers) * 2*np.pi \n",
    "a = %timeit ansatz_mpo(t, angles, params_array, max_dim=16)\n",
    "\n",
    "angles = np.random.rand(num_qubits) * 2 * np.pi\n",
    "num_w_layers = 2\n",
    "params_array = np.random.rand(15, (num_qubits-1)*num_w_layers) * 2*np.pi \n",
    "b = %timeit ansatz_mpo(t, angles, params_array, max_dim=16)\n",
    "\n",
    "angles = np.random.rand(num_qubits) * 2 * np.pi\n",
    "num_w_layers = 3\n",
    "params_array = np.random.rand(15, (num_qubits-1)*num_w_layers) * 2*np.pi \n",
    "c = %timeit ansatz_mpo(t, angles, params_array, max_dim=16)\n",
    "\n",
    "angles = np.random.rand(num_qubits) * 2 * np.pi\n",
    "num_w_layers = 4\n",
    "params_array = np.random.rand(15, (num_qubits-1)*num_w_layers) * 2*np.pi \n",
    "c = %timeit ansatz_mpo(t, angles, params_array, max_dim=16)"
   ]
  },
  {
   "cell_type": "code",
   "execution_count": null,
   "metadata": {
    "hidden": true
   },
   "outputs": [],
   "source": [
    "# random MPO approximates evolution better than random matrix\n",
    "# identity approximates best \n",
    "num_qubits = 6\n",
    "t = 0.1\n",
    "num_trotter_layers=4\n",
    "num_w_layers=1\n",
    "max_dim = 16\n",
    "\n",
    "angles = jnp.asarray(np.random.rand(num_qubits))\n",
    "params_array = jnp.asarray(np.random.rand((num_qubits-1)*num_w_layers, 15))\n",
    "ansatz = ansatz_mpo(t, angles, params_array)\n",
    "rand_mpo = ansatz.to_matrix()\n",
    "\n",
    "u, s, vh = np.linalg.svd(np.random.rand(2**num_qubits, 2**num_qubits))\n",
    "rand_u = u@vh\n",
    "\n",
    "target_mpo = xy_mpo(num_qubits, t, num_trotter_layers, max_dim=max_dim)\n",
    "\n",
    "print('cost function with random unitary: ', 1-(np.trace(target_mpo.to_matrix().conj().T @ rand_u).real)/(2**num_qubits))\n",
    "print('cost function with random MPO: ', 1-(np.trace(target_mpo.to_matrix().conj().T @ rand_mpo).real)/(2**num_qubits))\n",
    "print('cost function with identity: ', 1-(np.trace(target_mpo.to_matrix().conj().T @ np.eye(2**num_qubits)).real)/(2**num_qubits))"
   ]
  },
  {
   "cell_type": "code",
   "execution_count": 9,
   "metadata": {
    "ExecuteTime": {
     "end_time": "2023-07-11T20:21:38.601687Z",
     "start_time": "2023-07-11T20:21:38.478554Z"
    },
    "hidden": true
   },
   "outputs": [
    {
     "data": {
      "text/plain": [
       "(-1.4432899320127035e-15+1.6479873021779667e-15j)"
      ]
     },
     "execution_count": 9,
     "metadata": {},
     "output_type": "execute_result"
    }
   ],
   "source": [
    "# testing environment of intermediate stack\n",
    "stack_idx = 4\n",
    "env1, env2 = ansatz.stack_env(target_mpo, stack_idx)\n",
    "(env1 @ ansatz.param_mpo_stacks[stack_idx] @ env2 @ ansatz.param_mpo_stacks[stack_idx].conj()).normalized_trace() - (target_mpo.conj()@ansatz.mpo()).normalized_trace()"
   ]
  },
  {
   "cell_type": "markdown",
   "metadata": {
    "heading_collapsed": true
   },
   "source": [
    "# Environments"
   ]
  },
  {
   "cell_type": "markdown",
   "metadata": {
    "heading_collapsed": true,
    "hidden": true
   },
   "source": [
    "## Stack environments"
   ]
  },
  {
   "cell_type": "code",
   "execution_count": 2,
   "metadata": {
    "ExecuteTime": {
     "end_time": "2023-07-18T17:00:55.018803Z",
     "start_time": "2023-07-18T17:00:54.980802Z"
    },
    "hidden": true
   },
   "outputs": [],
   "source": [
    "num_qubits = 4\n",
    "num_w_layers = 4\n",
    "t = 0.1\n",
    "\n",
    "angles = np.asarray(np.random.rand(num_qubits))\n",
    "params = np.asarray(np.random.rand(2*num_w_layers+1, 3*num_qubits)) \n",
    "ansatz = Ansatz(t, angles, params)\n",
    "\n",
    "num_trotter_steps = 5\n",
    "target_mpo = xy_mpo(num_qubits, t, num_trotter_steps)"
   ]
  },
  {
   "cell_type": "code",
   "execution_count": 4,
   "metadata": {
    "ExecuteTime": {
     "end_time": "2023-07-18T17:01:44.920990Z",
     "start_time": "2023-07-18T17:01:44.723410Z"
    },
    "hidden": true
   },
   "outputs": [
    {
     "data": {
      "text/plain": [
       "(-1.9984014443252818e-15-3.5648567431323386e-16j)"
      ]
     },
     "execution_count": 4,
     "metadata": {},
     "output_type": "execute_result"
    }
   ],
   "source": [
    "# testing environment of the diagonal stack\n",
    "stack_env1, stack_env2 = stack_env(ansatz, target_mpo, 0)\n",
    "(stack_env1 @ ansatz.param_mpo_stacks[0]).trace() - (target_mpo.conj()@ansatz.mpo()).trace()"
   ]
  },
  {
   "cell_type": "code",
   "execution_count": 8,
   "metadata": {
    "ExecuteTime": {
     "end_time": "2023-07-18T17:02:19.678099Z",
     "start_time": "2023-07-18T17:02:19.669098Z"
    },
    "hidden": true
   },
   "outputs": [
    {
     "data": {
      "text/plain": [
       "True"
      ]
     },
     "execution_count": 8,
     "metadata": {},
     "output_type": "execute_result"
    }
   ],
   "source": [
    "stack_env2 is None"
   ]
  },
  {
   "cell_type": "code",
   "execution_count": 5,
   "metadata": {
    "ExecuteTime": {
     "end_time": "2023-07-18T17:01:52.644138Z",
     "start_time": "2023-07-18T17:01:52.530820Z"
    },
    "hidden": true
   },
   "outputs": [
    {
     "data": {
      "text/plain": [
       "(-2.4424906541753444e-15+8.933825901280557e-17j)"
      ]
     },
     "execution_count": 5,
     "metadata": {},
     "output_type": "execute_result"
    }
   ],
   "source": [
    "# testing environment of last stack\n",
    "stack_idx = 5\n",
    "env1, env2 = stack_env(ansatz, target_mpo, stack_idx)\n",
    "(env1 @ ansatz.param_mpo_stacks[stack_idx] @ env2 @ ansatz.param_mpo_stacks[stack_idx].conj()).trace() - (target_mpo.conj()@ansatz.mpo()).trace()"
   ]
  },
  {
   "cell_type": "markdown",
   "metadata": {
    "heading_collapsed": true,
    "hidden": true
   },
   "source": [
    "## Building environments left to right "
   ]
  },
  {
   "cell_type": "code",
   "execution_count": 9,
   "metadata": {
    "ExecuteTime": {
     "end_time": "2023-07-18T17:02:33.046809Z",
     "start_time": "2023-07-18T17:02:33.012811Z"
    },
    "hidden": true
   },
   "outputs": [],
   "source": [
    "num_qubits = 4\n",
    "num_w_layers = 4\n",
    "t = 0.1\n",
    "\n",
    "angles = np.asarray(np.random.rand(num_qubits))\n",
    "params = np.asarray(np.random.rand(2*num_w_layers+1, 3*num_qubits)) \n",
    "ansatz = Ansatz(t, angles, params)\n",
    "num_trotter_steps = 5\n",
    "target_mpo = xy_mpo(num_qubits, t, num_trotter_steps)"
   ]
  },
  {
   "cell_type": "code",
   "execution_count": 14,
   "metadata": {
    "ExecuteTime": {
     "end_time": "2023-07-18T17:04:07.758069Z",
     "start_time": "2023-07-18T17:04:07.319682Z"
    },
    "hidden": true
   },
   "outputs": [
    {
     "name": "stdout",
     "output_type": "stream",
     "text": [
      "0.0\n",
      "3.456159610437581e-14\n",
      "2.324298263763756e-14\n",
      "3.970961532390114e-14\n",
      "1.1898793469754864e-14\n",
      "2.5828904275209807e-14\n",
      "9.143172293433728e-15\n",
      "1.2671897920291207e-14\n",
      "0.0\n"
     ]
    }
   ],
   "source": [
    "left_envs, right_envs = all_stack_envs(ansatz, target_mpo)\n",
    "for i in range(1, ansatz.num_stacks): \n",
    "    old_stack_idx = i\n",
    "    target_stack_idx = old_stack_idx - 1\n",
    "    num_stacks = ansatz.num_stacks\n",
    "    cur_right_env = right_envs[old_stack_idx]\n",
    "    new_stack = ansatz.param_mpo_stacks[old_stack_idx]\n",
    "    new_env = build_right_env(cur_right_env, new_stack, target_stack_idx, num_stacks)\n",
    "    print(np.linalg.norm(new_env.to_matrix() - right_envs[target_stack_idx].to_matrix()))"
   ]
  },
  {
   "cell_type": "code",
   "execution_count": 15,
   "metadata": {
    "ExecuteTime": {
     "end_time": "2023-07-18T17:04:11.147803Z",
     "start_time": "2023-07-18T17:04:11.079007Z"
    },
    "hidden": true
   },
   "outputs": [
    {
     "name": "stdout",
     "output_type": "stream",
     "text": [
      "0.0\n",
      "3.2425956792951373e-15\n",
      "1.2073969440659635e-14\n",
      "2.7527096389266648e-14\n",
      "3.8960704910914996e-14\n",
      "7.597514177541783e-15\n",
      "5.223029006990901e-15\n",
      "1.1473807775270758e-14\n",
      "0.0\n"
     ]
    }
   ],
   "source": [
    "for old_stack_idx in range(ansatz.num_stacks-1): \n",
    "    target_stack_idx = old_stack_idx + 1\n",
    "    num_stacks = ansatz.num_stacks\n",
    "    cur_left_env = left_envs[old_stack_idx]\n",
    "    new_stack = ansatz.param_mpo_stacks[old_stack_idx]\n",
    "    new_env = build_left_env(cur_left_env, new_stack, target_stack_idx, num_stacks)\n",
    "    print(np.linalg.norm(new_env.to_matrix() - left_envs[target_stack_idx].to_matrix()))"
   ]
  },
  {
   "cell_type": "markdown",
   "metadata": {
    "heading_collapsed": true,
    "hidden": true
   },
   "source": [
    "## Node environments "
   ]
  },
  {
   "cell_type": "code",
   "execution_count": 2,
   "metadata": {
    "ExecuteTime": {
     "end_time": "2023-07-18T17:24:49.369808Z",
     "start_time": "2023-07-18T17:24:49.284654Z"
    },
    "hidden": true
   },
   "outputs": [],
   "source": [
    "num_qubits = 4\n",
    "num_w_layers = 4\n",
    "t = 0.1\n",
    "\n",
    "angles = np.asarray(np.random.rand(num_qubits))\n",
    "params = np.asarray(np.random.rand(2*num_w_layers+1, 3*num_qubits)) \n",
    "ansatz = Ansatz(t, angles, params)\n",
    "\n",
    "num_trotter_steps = 5\n",
    "target_mpo = xy_mpo(num_qubits, t, num_trotter_steps)\n",
    "true_trace = 1 - (target_mpo.conj()@ansatz.mpo()).trace().real"
   ]
  },
  {
   "cell_type": "code",
   "execution_count": 3,
   "metadata": {
    "ExecuteTime": {
     "end_time": "2023-07-18T17:24:51.843674Z",
     "start_time": "2023-07-18T17:24:51.345373Z"
    },
    "hidden": true
   },
   "outputs": [
    {
     "name": "stdout",
     "output_type": "stream",
     "text": [
      "0.0\n",
      "0.0\n",
      "0.0\n",
      "0.0\n",
      "0.0\n",
      "0.0\n",
      "0.0\n",
      "0.0\n",
      "0.0\n",
      "0.0\n",
      "0.0\n",
      "0.0\n",
      "0.0\n",
      "0.0\n",
      "0.0\n",
      "0.0\n",
      "0.0\n",
      "0.0\n",
      "0.0\n",
      "0.0\n",
      "0.0\n",
      "0.0\n",
      "0.0\n",
      "0.0\n",
      "0.0\n",
      "0.0\n",
      "0.0\n",
      "0.0\n",
      "0.0\n",
      "0.0\n",
      "0.0\n",
      "0.0\n",
      "0.0\n",
      "0.0\n",
      "0.0\n",
      "0.0\n",
      "0.0\n",
      "0.0\n",
      "0.0\n",
      "0.0\n"
     ]
    }
   ],
   "source": [
    "# test semi_env methods\n",
    "for stack_idx in range(ansatz.num_stacks):\n",
    "    stack_env1, stack_env2 = stack_env(ansatz, target_mpo, stack_idx)\n",
    "    param_mpo = ansatz.param_mpo_stacks[stack_idx]\n",
    "    link_datas1 = [stack_env1.nodes[i].data for i in range(num_qubits)]\n",
    "    link_datas2 = [None] * num_qubits if stack_env2 is None else [stack_env2.nodes[i].data for i in range(num_qubits)]\n",
    "\n",
    "    bottom_envs, top_envs = all_node_envs(param_mpo, stack_env1, stack_env2)\n",
    "    for node_idx in range(num_qubits):\n",
    "        n_env = node_env(param_mpo, node_idx, stack_env1, stack_env2)\n",
    "        f_env = full_env(link_datas1[node_idx], link_datas2[node_idx], top_envs[node_idx], bottom_envs[node_idx]) \n",
    "        print(np.linalg.norm(f_env-n_env))"
   ]
  },
  {
   "cell_type": "code",
   "execution_count": 6,
   "metadata": {
    "ExecuteTime": {
     "end_time": "2023-07-18T17:25:58.951012Z",
     "start_time": "2023-07-18T17:25:58.515068Z"
    },
    "hidden": true
   },
   "outputs": [
    {
     "name": "stdout",
     "output_type": "stream",
     "text": [
      "-1.3322676295501878e-15\n",
      "-1.3322676295501878e-15\n",
      "-1.2212453270876722e-15\n",
      "-6.661338147750939e-16\n",
      "-2.220446049250313e-16\n",
      "-5.551115123125783e-16\n",
      "-2.220446049250313e-16\n",
      "-8.881784197001252e-16\n",
      "-1.3322676295501878e-15\n",
      "-1.3322676295501878e-15\n",
      "-1.3322676295501878e-15\n",
      "-1.7763568394002505e-15\n",
      "-1.2212453270876722e-15\n",
      "-8.881784197001252e-16\n",
      "-1.887379141862766e-15\n",
      "2.220446049250313e-16\n",
      "-8.881784197001252e-16\n",
      "-8.881784197001252e-16\n",
      "-5.551115123125783e-16\n",
      "1.3322676295501878e-15\n",
      "1.5543122344752192e-15\n",
      "2.3314683517128287e-15\n",
      "1.4432899320127035e-15\n",
      "4.440892098500626e-16\n",
      "0.0\n",
      "1.9984014443252818e-15\n",
      "7.771561172376096e-16\n",
      "-2.1094237467877974e-15\n",
      "1.5543122344752192e-15\n",
      "1.6653345369377348e-15\n",
      "5.551115123125783e-16\n",
      "-1.3322676295501878e-15\n",
      "-8.881784197001252e-16\n",
      "6.661338147750939e-16\n",
      "-1.1102230246251565e-16\n",
      "-2.6645352591003757e-15\n",
      "1.1102230246251565e-16\n",
      "-2.220446049250313e-16\n",
      "6.661338147750939e-16\n",
      "2.9976021664879227e-15\n"
     ]
    }
   ],
   "source": [
    "# testing environment of nodes\n",
    "for stack_idx in range(ansatz.num_stacks): \n",
    "    stack_env1, stack_env2 = stack_env(ansatz, target_mpo, stack_idx)\n",
    "    param_mpo = ansatz.param_mpo_stacks[stack_idx]\n",
    "\n",
    "    for node_idx in range(num_qubits): \n",
    "        params = ansatz.angles[node_idx] if stack_idx == 0 else ansatz.params[stack_idx-1][node_idx*3:(node_idx+1)*3]\n",
    "        n_env = node_env(param_mpo, node_idx, stack_env1, stack_env2)\n",
    "        print(node_cost(params, n_env, t)- true_trace)"
   ]
  },
  {
   "cell_type": "code",
   "execution_count": 9,
   "metadata": {
    "ExecuteTime": {
     "end_time": "2023-07-18T17:28:22.122859Z",
     "start_time": "2023-07-18T17:28:02.852779Z"
    },
    "hidden": true
   },
   "outputs": [
    {
     "name": "stdout",
     "output_type": "stream",
     "text": [
      "2.52 s ± 452 ms per loop (mean ± std. dev. of 7 runs, 1 loop each)\n"
     ]
    },
    {
     "data": {
      "text/plain": [
       "<TimeitResult : 2.52 s ± 452 ms per loop (mean ± std. dev. of 7 runs, 1 loop each)>"
      ]
     },
     "execution_count": 9,
     "metadata": {},
     "output_type": "execute_result"
    }
   ],
   "source": [
    "bond_dim = 60\n",
    "stack_env1 = random_mpo(num_qubits, bond_dim)\n",
    "stack_env2 = random_mpo(num_qubits, bond_dim)\n",
    "%timeit -o node_env(param_mpo, node_idx, stack_env1, stack_env2)"
   ]
  },
  {
   "cell_type": "markdown",
   "metadata": {
    "heading_collapsed": true,
    "hidden": true
   },
   "source": [
    "## Building environments from top and bottom"
   ]
  },
  {
   "cell_type": "code",
   "execution_count": 10,
   "metadata": {
    "ExecuteTime": {
     "end_time": "2023-07-18T17:29:11.683075Z",
     "start_time": "2023-07-18T17:29:11.647081Z"
    },
    "hidden": true
   },
   "outputs": [],
   "source": [
    "num_qubits = 4\n",
    "num_w_layers = 4\n",
    "t = 0.1\n",
    "\n",
    "angles = np.asarray(np.random.rand(num_qubits))\n",
    "params = np.asarray(np.random.rand(2*num_w_layers+1, 3*num_qubits)) \n",
    "ansatz = Ansatz(t, angles, params)\n",
    "num_trotter_steps = 5\n",
    "target_mpo = xy_mpo(num_qubits, t, num_trotter_steps)"
   ]
  },
  {
   "cell_type": "code",
   "execution_count": 13,
   "metadata": {
    "ExecuteTime": {
     "end_time": "2023-07-18T17:33:30.673559Z",
     "start_time": "2023-07-18T17:33:30.295900Z"
    },
    "hidden": true
   },
   "outputs": [
    {
     "name": "stdout",
     "output_type": "stream",
     "text": [
      "0.0\n",
      "0.0\n",
      "0.0\n",
      "0.0\n",
      "0.0\n",
      "0.0\n",
      "0.0\n",
      "0.0\n",
      "0.0\n",
      "0.0\n",
      "0.0\n",
      "0.0\n",
      "0.0\n",
      "0.0\n",
      "0.0\n",
      "0.0\n",
      "0.0\n",
      "0.0\n",
      "0.0\n",
      "0.0\n",
      "0.0\n",
      "0.0\n",
      "0.0\n",
      "0.0\n",
      "0.0\n",
      "0.0\n",
      "0.0\n",
      "0.0\n",
      "0.0\n",
      "0.0\n"
     ]
    }
   ],
   "source": [
    "for stack_idx in range(ansatz.num_stacks):\n",
    "    stack_env1, stack_env2 = stack_env(ansatz, target_mpo, stack_idx)\n",
    "    param_mpo = ansatz.param_mpo_stacks[stack_idx]\n",
    "\n",
    "    bottom_envs, top_envs = all_node_envs(param_mpo, stack_env1, stack_env2)\n",
    "    link_datas1 = [stack_env1.nodes[i].data for i in range(num_qubits)]\n",
    "    link_datas2 = [None] * num_qubits if stack_env2 is None else [stack_env2.nodes[i].data for i in range(num_qubits)]\n",
    "\n",
    "    for target_node_idx in range(num_qubits-1):\n",
    "        idx = target_node_idx + 1\n",
    "        test_bottom_semi_env = build_bottom_env(bottom_envs[idx], ansatz.param_mpo_stacks[stack_idx].nodes[idx].data, link_datas1[idx], link_datas2[idx])\n",
    "        print(np.linalg.norm(test_bottom_semi_env - bottom_envs[target_node_idx]))"
   ]
  },
  {
   "cell_type": "markdown",
   "metadata": {
    "heading_collapsed": true
   },
   "source": [
    "# Optimization tests"
   ]
  },
  {
   "cell_type": "markdown",
   "metadata": {
    "heading_collapsed": true,
    "hidden": true
   },
   "source": [
    "## Node cost and derivative "
   ]
  },
  {
   "cell_type": "code",
   "execution_count": 2,
   "metadata": {
    "ExecuteTime": {
     "end_time": "2023-07-20T14:05:47.774012Z",
     "start_time": "2023-07-20T14:05:47.725981Z"
    },
    "hidden": true
   },
   "outputs": [],
   "source": [
    "num_qubits = 4\n",
    "num_w_layers = 4\n",
    "t = 0.1\n",
    "\n",
    "angles = np.asarray(np.random.rand(num_qubits))\n",
    "params = np.asarray(np.random.rand(2*num_w_layers+1, 3*num_qubits)) \n",
    "ansatz = Ansatz(t, angles, params)\n",
    "num_trotter_steps = 5\n",
    "target_mpo = xy_mpo(num_qubits, t, num_trotter_steps)"
   ]
  },
  {
   "cell_type": "code",
   "execution_count": 3,
   "metadata": {
    "ExecuteTime": {
     "end_time": "2023-07-20T14:05:48.046573Z",
     "start_time": "2023-07-20T14:05:47.932761Z"
    },
    "hidden": true
   },
   "outputs": [
    {
     "name": "stdout",
     "output_type": "stream",
     "text": [
      "-1.7763568394002505e-15\n",
      "-2.1094237467877974e-15\n",
      "-2.220446049250313e-15\n",
      "-1.887379141862766e-15\n"
     ]
    }
   ],
   "source": [
    "# does node_cost product correct cost function in rz stack\n",
    "stack_idx = 0\n",
    "stack_env1, stack_env2 = stack_env(ansatz, target_mpo, stack_idx)\n",
    "stack_params = ansatz.angles\n",
    "true_cost = 1 - (target_mpo.conj() @ ansatz.mpo()).trace().real\n",
    "\n",
    "for node_idx in range(num_qubits):\n",
    "    n_env = node_env(ansatz.param_mpo_stacks[stack_idx], node_idx, stack_env1)\n",
    "    print(node_cost(ansatz.angles[node_idx], n_env, t) - true_cost)"
   ]
  },
  {
   "cell_type": "code",
   "execution_count": 4,
   "metadata": {
    "ExecuteTime": {
     "end_time": "2023-07-20T14:05:49.161120Z",
     "start_time": "2023-07-20T14:05:48.738530Z"
    },
    "hidden": true
   },
   "outputs": [
    {
     "name": "stdout",
     "output_type": "stream",
     "text": [
      "-1.2212453270876722e-15\n",
      "-1.2212453270876722e-15\n",
      "-1.2212453270876722e-15\n",
      "-1.2212453270876722e-15\n",
      "-1.4432899320127035e-15\n",
      "-1.4432899320127035e-15\n",
      "-1.4432899320127035e-15\n",
      "-1.4432899320127035e-15\n",
      "-9.992007221626409e-16\n",
      "-9.992007221626409e-16\n",
      "-9.992007221626409e-16\n",
      "-9.992007221626409e-16\n",
      "-1.1102230246251565e-15\n",
      "-1.1102230246251565e-15\n",
      "-1.1102230246251565e-15\n",
      "-1.1102230246251565e-15\n",
      "-8.881784197001252e-16\n",
      "-8.881784197001252e-16\n",
      "-8.881784197001252e-16\n",
      "-8.881784197001252e-16\n",
      "-4.107825191113079e-15\n",
      "-4.107825191113079e-15\n",
      "-4.107825191113079e-15\n",
      "-4.107825191113079e-15\n",
      "2.1094237467877974e-15\n",
      "2.1094237467877974e-15\n",
      "2.1094237467877974e-15\n",
      "2.1094237467877974e-15\n",
      "1.2212453270876722e-15\n",
      "1.2212453270876722e-15\n",
      "1.2212453270876722e-15\n",
      "1.2212453270876722e-15\n",
      "-9.992007221626409e-16\n",
      "-9.992007221626409e-16\n",
      "-9.992007221626409e-16\n",
      "-9.992007221626409e-16\n"
     ]
    }
   ],
   "source": [
    "# does node_cost produce correct cost function in general stack\n",
    "for stack_idx in range(1, ansatz.num_stacks): \n",
    "    stack_env1, stack_env2 = stack_env(ansatz, target_mpo, stack_idx)\n",
    "    stack_params = ansatz.params[stack_idx-1]\n",
    "\n",
    "    for node_idx in range(num_qubits):\n",
    "        node_idx = 3\n",
    "        n_env = node_env(ansatz.param_mpo_stacks[stack_idx], node_idx, stack_env1, stack_env2)\n",
    "        print(node_cost(ansatz.params[stack_idx-1][node_idx*3:(node_idx+1)*3], n_env, t) - true_cost)"
   ]
  },
  {
   "cell_type": "code",
   "execution_count": 5,
   "metadata": {
    "ExecuteTime": {
     "end_time": "2023-07-20T14:05:50.512533Z",
     "start_time": "2023-07-20T14:05:50.452541Z"
    },
    "hidden": true
   },
   "outputs": [
    {
     "name": "stdout",
     "output_type": "stream",
     "text": [
      "[-1.91823554e-14]\n",
      "[-7.82152121e-14]\n",
      "[3.58519746e-13]\n",
      "[5.19135516e-13]\n"
     ]
    }
   ],
   "source": [
    "# does rz_node_deriv reproduce fd\n",
    "stack_idx = 0\n",
    "stack_env1, stack_env2 = stack_env(ansatz, target_mpo, stack_idx)\n",
    "\n",
    "for node_idx in range(num_qubits):\n",
    "    n_env = node_env(ansatz.param_mpo_stacks[stack_idx], node_idx, stack_env1)\n",
    "    fd = node_grad_fd(ansatz.angles[node_idx], n_env, t)\n",
    "    exact = rz_node_deriv(n_env, ansatz.angles[node_idx], t)\n",
    "    print(fd-exact)"
   ]
  },
  {
   "cell_type": "code",
   "execution_count": 6,
   "metadata": {
    "ExecuteTime": {
     "end_time": "2023-07-20T14:05:52.845993Z",
     "start_time": "2023-07-20T14:05:52.397174Z"
    },
    "hidden": true
   },
   "outputs": [
    {
     "name": "stdout",
     "output_type": "stream",
     "text": [
      "[ 1.87955207e-12  5.55111512e-13 -1.28787259e-12]\n",
      "[8.98121855e-13 5.55111512e-13 6.02024398e-14]\n",
      "[-2.64052669e-13  0.00000000e+00  9.11491911e-13]\n",
      "[ 1.10750298e-12 -3.57181498e-18 -1.18040907e-12]\n",
      "[-1.90458760e-13 -1.84298778e-12 -1.36601884e-12]\n",
      "[ 1.09337539e-12 -1.38419029e-12 -1.79359479e-12]\n",
      "[-8.86478391e-13 -1.04666129e-12 -2.38186207e-13]\n",
      "[-4.38760139e-13 -1.15382313e-13 -1.34538734e-12]\n",
      "[ 4.15584234e-13 -8.10909174e-13  9.35476089e-13]\n",
      "[ 1.06244874e-12  1.04325023e-13 -2.94207800e-13]\n",
      "[-8.54176105e-13 -7.14712035e-13 -7.65553311e-13]\n",
      "[ 7.23296423e-13 -1.76215206e-12 -2.17881420e-12]\n",
      "[1.49215362e-12 3.80359318e-13 3.37437543e-13]\n",
      "[-2.10054196e-13  2.39729433e-13  1.36519973e-12]\n",
      "[ 5.35127498e-14 -2.02803779e-12  1.07804911e-12]\n",
      "[-3.56770169e-13 -3.90416432e-13  7.66795048e-13]\n",
      "[-1.97841049e-12  3.37438627e-13  4.98843263e-13]\n",
      "[ 2.24370522e-12 -3.96565593e-13  2.11068055e-12]\n",
      "[ 2.74075901e-12 -1.24711607e-12 -8.89070122e-13]\n",
      "[-1.57096558e-12 -3.04783195e-12 -2.58810855e-12]\n",
      "[-1.53488333e-12 -5.62696591e-14  8.67791299e-13]\n",
      "[1.56397117e-12 6.59504190e-13 1.22404430e-12]\n",
      "[-2.61589361e-12  4.46311607e-13  7.88739733e-14]\n",
      "[-7.30936145e-13 -6.71722714e-13 -5.59913877e-13]\n",
      "[-1.91402449e-12 -2.42423161e-13 -1.10752900e-12]\n",
      "[7.16288140e-13 1.43745042e-13 2.34047590e-13]\n",
      "[ 2.72233625e-12 -1.56713097e-12 -1.63970183e-12]\n",
      "[ 4.31907982e-13 -1.25056085e-12 -4.34881514e-13]\n",
      "[-7.24670324e-13  5.57809658e-13 -3.11146684e-13]\n",
      "[6.49355569e-13 1.17185135e-12 5.69542677e-13]\n",
      "[4.27144431e-13 1.60899115e-12 3.23623810e-12]\n",
      "[6.30197283e-13 3.65884189e-13 1.64795526e-12]\n",
      "[-1.84130489e-13  2.43929416e-13  2.22059784e-14]\n",
      "[ 3.04867243e-13  1.12463467e-12 -5.82521444e-13]\n",
      "[-6.07321485e-13 -1.62530796e-13 -3.47384014e-13]\n",
      "[-5.01598763e-13 -1.73888139e-14  9.07698396e-13]\n"
     ]
    }
   ],
   "source": [
    "# does general_node_deriv reproduce fd\n",
    "for stack_idx in range(1,ansatz.num_stacks):\n",
    "    stack_env1, stack_env2 = stack_env(ansatz, target_mpo, stack_idx)\n",
    "\n",
    "    for node_idx in range(num_qubits):\n",
    "        n_env = node_env(ansatz.param_mpo_stacks[stack_idx], node_idx, stack_env1, stack_env2)\n",
    "        fd = node_grad_fd(ansatz.params[stack_idx-1][node_idx*3:(node_idx+1)*3], n_env)\n",
    "        exact = general_node_deriv(n_env, ansatz.params[stack_idx-1][node_idx*3:(node_idx+1)*3])\n",
    "        print(fd-exact)"
   ]
  },
  {
   "cell_type": "markdown",
   "metadata": {
    "heading_collapsed": true,
    "hidden": true
   },
   "source": [
    "## Node optimizer"
   ]
  },
  {
   "cell_type": "code",
   "execution_count": 7,
   "metadata": {
    "ExecuteTime": {
     "end_time": "2023-07-20T14:05:56.680988Z",
     "start_time": "2023-07-20T14:05:56.644039Z"
    },
    "hidden": true
   },
   "outputs": [],
   "source": [
    "num_qubits = 4\n",
    "num_w_layers = 4\n",
    "t = 0.1\n",
    "\n",
    "angles = np.asarray(np.random.rand(num_qubits))\n",
    "params = np.asarray(np.random.rand(2*num_w_layers+1, 3*num_qubits)) \n",
    "ansatz = Ansatz(t, angles, params)\n",
    "num_trotter_steps = 5\n",
    "target_mpo = xy_mpo(num_qubits, t, num_trotter_steps)"
   ]
  },
  {
   "cell_type": "code",
   "execution_count": 8,
   "metadata": {
    "ExecuteTime": {
     "end_time": "2023-07-20T14:05:58.160733Z",
     "start_time": "2023-07-20T14:05:57.203619Z"
    },
    "hidden": true
   },
   "outputs": [
    {
     "name": "stdout",
     "output_type": "stream",
     "text": [
      "0.030552269476530114\n",
      "0.02991496589138154\n",
      "0.02952196632948223\n",
      "0.029110640738004845\n",
      "0.02900827532653505\n",
      "0.028972289720852862\n",
      "0.02885249227129638\n",
      "0.028690067347045933\n",
      "0.02865446118098336\n",
      "0.028481299404716665\n",
      "0.028469596388596474\n",
      "0.02840285433069656\n",
      "0.028352666677794236\n",
      "0.028338652323489866\n",
      "0.02831254878179512\n",
      "0.028179991887192446\n",
      "0.028164296967986613\n",
      "0.02811934286662421\n",
      "0.028040942564564242\n",
      "0.028007119322308593\n",
      "0.027632402436266745\n",
      "0.027590874936112342\n",
      "0.027527561699842606\n",
      "0.027518102213205275\n",
      "0.027413480093662512\n",
      "0.027258446220916444\n",
      "0.027175046954629023\n",
      "0.027164051914189247\n",
      "0.02699599554093457\n",
      "0.02685873290733043\n",
      "0.026756060431972317\n",
      "0.026609068114724188\n",
      "0.026606375286933437\n",
      "0.0265858166092805\n",
      "0.02655997165866819\n",
      "0.026530264675967086\n",
      "0.026517963603068906\n",
      "0.026468459464601635\n",
      "0.02644714203235643\n",
      "0.026382691854009543\n"
     ]
    }
   ],
   "source": [
    "# optimizing all nodes\n",
    "for stack_idx in range(ansatz.num_stacks):\n",
    "    stack_env1, stack_env2 = stack_env(ansatz, target_mpo, stack_idx)\n",
    "    for node_idx in range(num_qubits):\n",
    "        n_env = node_env(ansatz.param_mpo_stacks[stack_idx], node_idx, stack_env1, stack_env2)\n",
    "        new_cost, new_node = node_optimizer(ansatz, stack_idx, node_idx, n_env, t)\n",
    "        print(new_cost)"
   ]
  },
  {
   "cell_type": "code",
   "execution_count": 9,
   "metadata": {
    "ExecuteTime": {
     "end_time": "2023-07-20T14:06:04.028766Z",
     "start_time": "2023-07-20T14:06:02.788965Z"
    },
    "hidden": true
   },
   "outputs": [
    {
     "name": "stdout",
     "output_type": "stream",
     "text": [
      "0.02527188180955786 0.022590688322706387\n",
      "0.02253058812221953 0.021431492801743834\n",
      "0.021378050310841945 0.02079963990454381\n",
      "0.020687600081792823 0.02037807778148515\n",
      "0.02033370523385747 0.019643837505066153\n",
      "0.01962274699903499 0.019207300456585474\n",
      "0.019199234891908112 0.018821243472149307\n",
      "0.018679078288265316 0.018375961906559546\n",
      "0.018341727173868172 0.017935265876254936\n",
      "0.01790375124036303 0.017671885175705726\n"
     ]
    }
   ],
   "source": [
    "# testing sweep_up_down\n",
    "for stack_idx in range(ansatz.num_stacks): \n",
    "    param_mpo = ansatz.param_mpo_stacks[stack_idx]\n",
    "    stack_env1, stack_env2 = stack_env(ansatz, target_mpo, stack_idx)\n",
    "    link_datas1 = [stack_env1.nodes[node_idx].data for node_idx in range(ansatz.num_qubits)]\n",
    "    link_datas2 = [None] * ansatz.num_qubits if stack_env2 is None else [stack_env2.nodes[node_idx].data for node_idx in range(ansatz.num_qubits)]\n",
    "    bottom_envs, top_envs = all_node_envs(param_mpo, stack_env1, stack_env2)\n",
    "    cost_list = sweep_up_down(ansatz, stack_idx, bottom_envs, top_envs, link_datas1, link_datas2, t)\n",
    "    print(cost_list[0], cost_list[-1])"
   ]
  },
  {
   "cell_type": "markdown",
   "metadata": {
    "heading_collapsed": true,
    "hidden": true
   },
   "source": [
    "## Nodewise training "
   ]
  },
  {
   "cell_type": "code",
   "execution_count": 11,
   "metadata": {
    "ExecuteTime": {
     "end_time": "2023-07-20T14:08:53.234973Z",
     "start_time": "2023-07-20T14:07:14.976968Z"
    },
    "hidden": true
   },
   "outputs": [
    {
     "name": "stderr",
     "output_type": "stream",
     "text": [
      " 10%|████████▎                                                                          | 1/10 [00:46<06:58, 46.53s/it]"
     ]
    },
    {
     "name": "stdout",
     "output_type": "stream",
     "text": [
      "0.027848601009112794\n"
     ]
    },
    {
     "name": "stderr",
     "output_type": "stream",
     "text": [
      "\r",
      " 20%|████████████████▌                                                                  | 2/10 [00:55<03:15, 24.42s/it]"
     ]
    },
    {
     "name": "stdout",
     "output_type": "stream",
     "text": [
      "0.011515905576439334\n"
     ]
    },
    {
     "name": "stderr",
     "output_type": "stream",
     "text": [
      "\r",
      " 30%|████████████████████████▉                                                          | 3/10 [01:01<01:50, 15.83s/it]"
     ]
    },
    {
     "name": "stdout",
     "output_type": "stream",
     "text": [
      "0.00794056165369672\n"
     ]
    },
    {
     "name": "stderr",
     "output_type": "stream",
     "text": [
      "\r",
      " 40%|█████████████████████████████████▏                                                 | 4/10 [01:06<01:10, 11.74s/it]"
     ]
    },
    {
     "name": "stdout",
     "output_type": "stream",
     "text": [
      "0.006314981107777506\n"
     ]
    },
    {
     "name": "stderr",
     "output_type": "stream",
     "text": [
      "\r",
      " 50%|█████████████████████████████████████████▌                                         | 5/10 [01:11<00:47,  9.42s/it]"
     ]
    },
    {
     "name": "stdout",
     "output_type": "stream",
     "text": [
      "0.005365805167057314\n"
     ]
    },
    {
     "name": "stderr",
     "output_type": "stream",
     "text": [
      "\r",
      " 60%|█████████████████████████████████████████████████▊                                 | 6/10 [01:17<00:32,  8.01s/it]"
     ]
    },
    {
     "name": "stdout",
     "output_type": "stream",
     "text": [
      "0.004788132460756933\n"
     ]
    },
    {
     "name": "stderr",
     "output_type": "stream",
     "text": [
      "\r",
      " 70%|██████████████████████████████████████████████████████████                         | 7/10 [01:22<00:21,  7.05s/it]"
     ]
    },
    {
     "name": "stdout",
     "output_type": "stream",
     "text": [
      "0.004383957943661754\n"
     ]
    },
    {
     "name": "stderr",
     "output_type": "stream",
     "text": [
      "\r",
      " 80%|██████████████████████████████████████████████████████████████████▍                | 8/10 [01:27<00:12,  6.44s/it]"
     ]
    },
    {
     "name": "stdout",
     "output_type": "stream",
     "text": [
      "0.004059884829964111\n"
     ]
    },
    {
     "name": "stderr",
     "output_type": "stream",
     "text": [
      "\r",
      " 90%|██████████████████████████████████████████████████████████████████████████▋        | 9/10 [01:32<00:06,  6.05s/it]"
     ]
    },
    {
     "name": "stdout",
     "output_type": "stream",
     "text": [
      "0.0037818468782071513\n"
     ]
    },
    {
     "name": "stderr",
     "output_type": "stream",
     "text": [
      "100%|██████████████████████████████████████████████████████████████████████████████████| 10/10 [01:37<00:00,  9.79s/it]"
     ]
    },
    {
     "name": "stdout",
     "output_type": "stream",
     "text": [
      "0.0035130111264624064\n"
     ]
    },
    {
     "name": "stderr",
     "output_type": "stream",
     "text": [
      "\n"
     ]
    }
   ],
   "source": [
    "num_qubits = 4\n",
    "num_w_layers = 4\n",
    "t = 0.1\n",
    "num_trotter_steps = 5\n",
    "noisy_cost_data, exact_cost_data, angles, params = nodewise_train(num_qubits, t, num_trotter_steps, num_w_layers, num_stack_sweeps=10, max_dim=16)"
   ]
  },
  {
   "cell_type": "markdown",
   "metadata": {
    "heading_collapsed": true
   },
   "source": [
    "# Timing"
   ]
  },
  {
   "cell_type": "code",
   "execution_count": 2,
   "metadata": {
    "ExecuteTime": {
     "end_time": "2023-07-20T14:10:30.511030Z",
     "start_time": "2023-07-20T14:10:30.494997Z"
    },
    "hidden": true
   },
   "outputs": [],
   "source": [
    "%load_ext line_profiler"
   ]
  },
  {
   "cell_type": "code",
   "execution_count": 2,
   "metadata": {
    "ExecuteTime": {
     "end_time": "2023-07-20T14:35:39.208961Z",
     "start_time": "2023-07-20T14:35:39.191923Z"
    },
    "hidden": true
   },
   "outputs": [],
   "source": [
    "num_qubits = 8\n",
    "t=0.1\n",
    "num_trotter_steps = 5\n",
    "num_w_layers = 6"
   ]
  },
  {
   "cell_type": "code",
   "execution_count": 12,
   "metadata": {
    "ExecuteTime": {
     "end_time": "2023-07-20T14:28:19.415267Z",
     "start_time": "2023-07-20T14:15:12.965517Z"
    },
    "hidden": true
   },
   "outputs": [
    {
     "name": "stderr",
     "output_type": "stream",
     "text": [
      "  0%|                                                                                            | 0/1 [00:00<?, ?it/s]\n",
      "  0%|                                                                                           | 0/13 [00:00<?, ?it/s]\u001b[A\n",
      "  8%|██████▍                                                                            | 1/13 [00:00<00:02,  4.84it/s]\u001b[A\n",
      " 15%|████████████▊                                                                      | 2/13 [00:02<00:17,  1.61s/it]\u001b[A\n",
      " 23%|███████████████████▏                                                               | 3/13 [00:06<00:25,  2.51s/it]\u001b[A\n",
      " 31%|█████████████████████████▌                                                         | 4/13 [00:18<00:57,  6.38s/it]\u001b[A\n",
      " 38%|███████████████████████████████▉                                                   | 5/13 [00:55<02:19, 17.47s/it]\u001b[A\n",
      " 46%|██████████████████████████████████████▎                                            | 6/13 [01:32<02:47, 23.87s/it]\u001b[A\n",
      " 54%|████████████████████████████████████████████▋                                      | 7/13 [02:09<02:50, 28.40s/it]\u001b[A\n",
      " 62%|███████████████████████████████████████████████████                                | 8/13 [02:46<02:34, 30.98s/it]\u001b[A\n",
      " 69%|█████████████████████████████████████████████████████████▍                         | 9/13 [03:24<02:12, 33.07s/it]\u001b[A\n",
      " 77%|███████████████████████████████████████████████████████████████                   | 10/13 [04:05<01:47, 35.68s/it]\u001b[A\n",
      " 85%|█████████████████████████████████████████████████████████████████████▍            | 11/13 [04:44<01:13, 36.78s/it]\u001b[A\n",
      " 92%|███████████████████████████████████████████████████████████████████████████▋      | 12/13 [05:21<00:36, 36.79s/it]\u001b[A\n",
      "100%|██████████████████████████████████████████████████████████████████████████████████| 13/13 [05:58<00:00, 27.58s/it]\u001b[A\n",
      "\n",
      "  0%|                                                                                           | 0/13 [00:00<?, ?it/s]\u001b[A\n",
      "  8%|██████▍                                                                            | 1/13 [00:36<07:12, 36.06s/it]\u001b[A\n",
      " 15%|████████████▊                                                                      | 2/13 [01:12<06:38, 36.20s/it]\u001b[A\n",
      " 23%|███████████████████▏                                                               | 3/13 [01:49<06:04, 36.46s/it]\u001b[A\n",
      " 31%|█████████████████████████▌                                                         | 4/13 [02:25<05:27, 36.39s/it]\u001b[A\n",
      " 38%|███████████████████████████████▉                                                   | 5/13 [03:02<04:51, 36.47s/it]\u001b[A\n",
      " 46%|██████████████████████████████████████▎                                            | 6/13 [03:39<04:17, 36.78s/it]\u001b[A\n",
      " 54%|████████████████████████████████████████████▋                                      | 7/13 [04:17<03:43, 37.33s/it]\u001b[A\n",
      " 62%|███████████████████████████████████████████████████                                | 8/13 [04:55<03:06, 37.29s/it]\u001b[A\n",
      " 69%|█████████████████████████████████████████████████████████▍                         | 9/13 [05:32<02:29, 37.41s/it]\u001b[A\n",
      " 77%|███████████████████████████████████████████████████████████████                   | 10/13 [06:15<01:57, 39.05s/it]\u001b[A\n",
      " 85%|█████████████████████████████████████████████████████████████████████▍            | 11/13 [06:27<01:01, 30.80s/it]\u001b[A\n",
      " 92%|███████████████████████████████████████████████████████████████████████████▋      | 12/13 [06:31<00:22, 22.72s/it]\u001b[A\n",
      "100%|██████████████████████████████████████████████████████████████████████████████████| 13/13 [06:34<00:00, 30.35s/it]\u001b[A\n",
      "100%|███████████████████████████████████████████████████████████████████████████████████| 1/1 [12:52<00:00, 772.14s/it]"
     ]
    },
    {
     "name": "stdout",
     "output_type": "stream",
     "text": [
      "0.06360065512057977\n"
     ]
    },
    {
     "name": "stderr",
     "output_type": "stream",
     "text": [
      "\n"
     ]
    }
   ],
   "source": [
    "%lprun -f nodewise_train nodewise_train(num_qubits, t, num_trotter_steps, num_w_layers, num_stack_sweeps=1, num_node_sweeps=20, max_dim=32)"
   ]
  },
  {
   "cell_type": "code",
   "execution_count": 3,
   "metadata": {
    "ExecuteTime": {
     "end_time": "2023-07-20T14:35:46.455551Z",
     "start_time": "2023-07-20T14:35:41.481220Z"
    },
    "hidden": true
   },
   "outputs": [],
   "source": [
    "# bottleneck is sweep_and_down\n",
    "angles = np.asarray(np.random.rand(num_qubits))\n",
    "params = np.asarray(np.random.rand(2*num_w_layers+1, 3*num_qubits)) \n",
    "ansatz = Ansatz(t, angles, params)\n",
    "target_mpo = xy_mpo(num_qubits, t, num_trotter_steps, max_dim=64)\n",
    "\n",
    "stack_idx = 1\n",
    "param_mpo = ansatz.param_mpo_stacks[stack_idx]\n",
    "stack_env1, stack_env2 = stack_env(ansatz, target_mpo, stack_idx, max_dim=64)\n",
    "link_datas1 = [stack_env1.nodes[node_idx].data for node_idx in range(ansatz.num_qubits)]\n",
    "link_datas2 = [None] * ansatz.num_qubits if stack_env2 is None else [stack_env2.nodes[node_idx].data for node_idx in range(ansatz.num_qubits)]\n",
    "bottom_envs, top_envs = all_node_envs(param_mpo, stack_env1, stack_env2)"
   ]
  },
  {
   "cell_type": "code",
   "execution_count": 14,
   "metadata": {
    "ExecuteTime": {
     "end_time": "2023-07-20T14:29:00.244732Z",
     "start_time": "2023-07-20T14:29:00.025818Z"
    },
    "hidden": true
   },
   "outputs": [],
   "source": [
    "%lprun -f sweep_up_down sweep_up_down(ansatz, stack_idx, bottom_envs, top_envs, link_datas1, link_datas2, t)"
   ]
  },
  {
   "cell_type": "code",
   "execution_count": 15,
   "metadata": {
    "ExecuteTime": {
     "end_time": "2023-07-20T14:29:13.304932Z",
     "start_time": "2023-07-20T14:29:13.289940Z"
    },
    "hidden": true
   },
   "outputs": [],
   "source": [
    "# bottleneck is node_optimizer\n",
    "node_idx = 1\n",
    "n_env = node_env(ansatz.param_mpo_stacks[stack_idx], node_idx, stack_env1, stack_env2)"
   ]
  },
  {
   "cell_type": "code",
   "execution_count": 16,
   "metadata": {
    "ExecuteTime": {
     "end_time": "2023-07-20T14:29:13.720862Z",
     "start_time": "2023-07-20T14:29:13.691693Z"
    },
    "hidden": true
   },
   "outputs": [],
   "source": [
    "%lprun -f node_optimizer node_optimizer(ansatz, stack_idx, node_idx, n_env, t)"
   ]
  },
  {
   "cell_type": "code",
   "execution_count": 5,
   "metadata": {
    "ExecuteTime": {
     "end_time": "2023-07-20T14:36:42.718554Z",
     "start_time": "2023-07-20T14:36:19.821398Z"
    },
    "hidden": true
   },
   "outputs": [
    {
     "name": "stdout",
     "output_type": "stream",
     "text": [
      "33.3 µs ± 3.19 µs per loop (mean ± std. dev. of 7 runs, 10,000 loops each)\n"
     ]
    }
   ],
   "source": [
    "# bottleneck is general_node_deriv\n",
    "stack_idx = 1\n",
    "param_mpo = ansatz.param_mpo_stacks[stack_idx]\n",
    "stack_env1, stack_env2 = stack_env(ansatz, target_mpo, stack_idx)\n",
    "node_idx = 1\n",
    "n_env = node_env(param_mpo, node_idx, stack_env1, stack_env2)\n",
    "%timeit np.asarray(general_node_deriv(n_env, ansatz.params[stack_idx-1][node_idx*3:(node_idx+1)*3]))"
   ]
  },
  {
   "cell_type": "code",
   "execution_count": null,
   "metadata": {
    "hidden": true
   },
   "outputs": [],
   "source": []
  },
  {
   "cell_type": "markdown",
   "metadata": {
    "heading_collapsed": true
   },
   "source": [
    "# Test runs"
   ]
  },
  {
   "cell_type": "markdown",
   "metadata": {
    "heading_collapsed": true,
    "hidden": true
   },
   "source": [
    "## Can I compile identity? "
   ]
  },
  {
   "cell_type": "code",
   "execution_count": null,
   "metadata": {
    "ExecuteTime": {
     "end_time": "2023-06-29T21:12:15.077466Z",
     "start_time": "2023-06-29T21:12:14.865270Z"
    },
    "hidden": true
   },
   "outputs": [],
   "source": [
    "num_qubits = 4\n",
    "target_mpo = MPO([Node(jnp.eye(2,2)[jnp.newaxis,jnp.newaxis,:,:]) for i in range(num_qubits)])\n",
    "t = 0.1 # doesn't really matter since angles should equal zero\n",
    "num_w_layers = 1\n",
    "angles = jnp.asarray(np.random.rand(num_qubits)) \n",
    "params = jnp.asarray(np.random.rand(2*num_w_layers+1, 3*num_qubits)) # doesn't really matter once angles << 1 \n",
    "ansatz = Ansatz(t, angles, params)\n",
    "min_sv_ratio = None\n",
    "max_dim = None"
   ]
  },
  {
   "cell_type": "code",
   "execution_count": null,
   "metadata": {
    "ExecuteTime": {
     "end_time": "2023-06-29T21:12:16.296148Z",
     "start_time": "2023-06-29T21:12:16.110932Z"
    },
    "hidden": true
   },
   "outputs": [],
   "source": [
    "1-(ansatz.mpo().conj() @ target_mpo).normalized_trace() "
   ]
  },
  {
   "cell_type": "code",
   "execution_count": null,
   "metadata": {
    "ExecuteTime": {
     "end_time": "2023-06-29T21:12:42.834206Z",
     "start_time": "2023-06-29T21:12:19.969697Z"
    },
    "hidden": true
   },
   "outputs": [],
   "source": [
    "env = ansatz.deriv_mpo(target_mpo, 0, min_sv_ratio, max_dim)\n",
    "angles = ansatz.angles\n",
    "print(angles)\n",
    "new_cost_list, angles = optimizer(d_cost, d_cost_grad, angles, env, t, max_iter=200)\n",
    "ansatz.update(0, angles)\n",
    "print(angles)\n",
    "print(new_cost_list[-1])"
   ]
  },
  {
   "cell_type": "code",
   "execution_count": null,
   "metadata": {
    "ExecuteTime": {
     "end_time": "2023-06-29T21:14:22.651479Z",
     "start_time": "2023-06-29T21:12:46.384695Z"
    },
    "hidden": true
   },
   "outputs": [],
   "source": [
    "param_idx_left = np.arange(ansatz.num_stacks-1)\n",
    "for i in tqdm(range(ansatz.num_stacks-1)): \n",
    "    choice = np.random.randint(len(param_idx_left))\n",
    "    param_idx = param_idx_left[choice]\n",
    "    param_idx_left = np.delete(param_idx_left, choice)\n",
    "    stack_idx = param_idx + 1\n",
    "    \n",
    "    env1, env2 = ansatz.deriv_mpo(target_mpo, stack_idx)\n",
    "    stack_params = ansatz.params[param_idx]\n",
    "    print(stack_params)\n",
    "    new_cost_list, stack_params = optimizer(layer_cost, layer_cost_grad, stack_params, env1, env2, max_iter=50)\n",
    "    ansatz.update(stack_idx, stack_params)\n",
    "    print(stack_params)\n",
    "    print(new_cost_list[-1])"
   ]
  },
  {
   "cell_type": "code",
   "execution_count": null,
   "metadata": {
    "ExecuteTime": {
     "end_time": "2023-06-29T21:14:48.055917Z",
     "start_time": "2023-06-29T21:14:25.265074Z"
    },
    "hidden": true
   },
   "outputs": [],
   "source": [
    "env = ansatz.deriv_mpo(target_mpo, 0, min_sv_ratio, max_dim)\n",
    "angles = ansatz.angles\n",
    "print(angles)\n",
    "new_cost_list, angles = optimizer(d_cost, d_cost_grad, angles, env, t, max_iter=500)\n",
    "ansatz.update(0, angles)\n",
    "print(angles)\n",
    "print(new_cost_list[-1])"
   ]
  },
  {
   "cell_type": "code",
   "execution_count": null,
   "metadata": {
    "ExecuteTime": {
     "end_time": "2023-06-29T21:15:24.678838Z",
     "start_time": "2023-06-29T21:15:04.034015Z"
    },
    "hidden": true
   },
   "outputs": [],
   "source": [
    "env = ansatz.deriv_mpo(target_mpo, 0, min_sv_ratio, max_dim)\n",
    "angles = ansatz.angles\n",
    "print(angles)\n",
    "new_cost_list, angles = optimizer(d_cost, d_cost_grad, angles, env, t, max_iter=500)\n",
    "ansatz.update(0, angles)\n",
    "print(angles)\n",
    "print(new_cost_list[-1])"
   ]
  },
  {
   "cell_type": "code",
   "execution_count": null,
   "metadata": {
    "ExecuteTime": {
     "end_time": "2023-06-29T21:15:28.141512Z",
     "start_time": "2023-06-29T21:15:27.969093Z"
    },
    "hidden": true
   },
   "outputs": [],
   "source": [
    "# this doesn't have to be identity because the diagonal portion is \n",
    "(ansatz.odd_mpo @ ansatz.param_mpo_stacks[1] @ ansatz.odd_mpo).to_matrix()"
   ]
  },
  {
   "cell_type": "markdown",
   "metadata": {
    "heading_collapsed": true,
    "hidden": true
   },
   "source": [
    "## 2 qubit simulation (no max_dim, no min_sv_ratio) "
   ]
  },
  {
   "cell_type": "code",
   "execution_count": null,
   "metadata": {
    "ExecuteTime": {
     "end_time": "2023-06-11T16:08:48.004346Z",
     "start_time": "2023-06-11T16:07:42.753061Z"
    },
    "hidden": true
   },
   "outputs": [],
   "source": [
    "num_qubits = 2\n",
    "t=0.1\n",
    "num_trotter_layers = 5\n",
    "num_w_layers = 1\n",
    "cost_list1, angles1, params_array1 = train(num_qubits, t, num_trotter_layers, num_w_layers=num_w_layers, num_steps=100, eta=10)"
   ]
  },
  {
   "cell_type": "code",
   "execution_count": null,
   "metadata": {
    "ExecuteTime": {
     "end_time": "2023-06-11T16:11:22.655227Z",
     "start_time": "2023-06-11T16:09:23.639295Z"
    },
    "hidden": true
   },
   "outputs": [],
   "source": [
    "cost_list2, angles2, params_array2 = train(num_qubits, t, num_trotter_layers, num_w_layers=num_w_layers, num_steps=100, eta=10, angles=angles1, params_array=params_array1)"
   ]
  },
  {
   "cell_type": "code",
   "execution_count": null,
   "metadata": {
    "ExecuteTime": {
     "end_time": "2023-06-11T16:13:24.989402Z",
     "start_time": "2023-06-11T16:11:24.304574Z"
    },
    "hidden": true
   },
   "outputs": [],
   "source": [
    "cost_list3, angles3, params_array3 = train(num_qubits, t, num_trotter_layers, num_w_layers=num_w_layers, num_steps=100, eta=10, angles=angles2, params_array=params_array2)"
   ]
  },
  {
   "cell_type": "code",
   "execution_count": null,
   "metadata": {
    "ExecuteTime": {
     "end_time": "2023-06-11T16:13:37.765647Z",
     "start_time": "2023-06-11T16:13:33.645518Z"
    },
    "hidden": true
   },
   "outputs": [],
   "source": [
    "plt.plot(cost_list1+cost_list2+cost_list3)\n",
    "plt.yscale('log')"
   ]
  },
  {
   "cell_type": "markdown",
   "metadata": {
    "heading_collapsed": true,
    "hidden": true
   },
   "source": [
    "## 2 qubit simulation (finite differences, no max_dim, no min_sv_ratio) "
   ]
  },
  {
   "cell_type": "code",
   "execution_count": null,
   "metadata": {
    "ExecuteTime": {
     "end_time": "2023-06-12T17:04:26.155214Z",
     "start_time": "2023-06-12T16:57:11.281815Z"
    },
    "hidden": true
   },
   "outputs": [],
   "source": [
    "num_qubits = 2\n",
    "t=0.1\n",
    "num_trotter_layers = 5\n",
    "num_w_layers = 1\n",
    "cost_list1, angles1, params_array1 = train(num_qubits, t, num_trotter_layers, num_w_layers=num_w_layers, num_steps=100, eta=10)"
   ]
  },
  {
   "cell_type": "code",
   "execution_count": null,
   "metadata": {
    "ExecuteTime": {
     "end_time": "2023-06-12T17:13:43.982396Z",
     "start_time": "2023-06-12T17:05:47.447504Z"
    },
    "hidden": true
   },
   "outputs": [],
   "source": [
    "cost_list2, angles2, params_array2 = train(num_qubits, t, num_trotter_layers, num_w_layers=num_w_layers, num_steps=100, eta=10, angles=angles1, params_array=params_array1)"
   ]
  },
  {
   "cell_type": "markdown",
   "metadata": {
    "heading_collapsed": true,
    "hidden": true
   },
   "source": [
    "## 4 qubit simulation "
   ]
  },
  {
   "cell_type": "code",
   "execution_count": null,
   "metadata": {
    "ExecuteTime": {
     "start_time": "2023-06-30T20:42:36.215Z"
    },
    "hidden": true
   },
   "outputs": [],
   "source": [
    "num_qubits = 6\n",
    "t = 0.1\n",
    "num_w_layers = 6\n",
    "num_trotter_steps = 5\n",
    "angles = np.asarray(np.random.rand(num_qubits)) \n",
    "params = np.asarray(np.random.rand(2*num_w_layers+1, 3*num_qubits)) \n",
    "train(num_qubits, t, num_trotter_steps, num_w_layers)"
   ]
  },
  {
   "cell_type": "markdown",
   "metadata": {
    "heading_collapsed": true
   },
   "source": [
    "# Known problem 1: Initializing from identity"
   ]
  },
  {
   "cell_type": "code",
   "execution_count": null,
   "metadata": {
    "ExecuteTime": {
     "end_time": "2023-06-07T16:21:33.649971Z",
     "start_time": "2023-06-07T16:21:32.497358Z"
    },
    "hidden": true
   },
   "outputs": [],
   "source": [
    "# initializing the ansatz as identity\n",
    "num_qubits = 6\n",
    "t=0.1\n",
    "angles = jnp.zeros(num_qubits)\n",
    "params_array = jnp.zeros((num_qubits-1, 15))\n",
    "a = ansatz_mpo(t, angles, params_array, min_sv_ratio=0.1)\n",
    "a.to_matrix()"
   ]
  },
  {
   "cell_type": "code",
   "execution_count": null,
   "metadata": {
    "ExecuteTime": {
     "end_time": "2023-06-07T18:08:54.228918Z",
     "start_time": "2023-06-07T18:08:54.032850Z"
    },
    "hidden": true
   },
   "outputs": [],
   "source": [
    "# test derivatives\n",
    "num_qubits=6\n",
    "t=0.5\n",
    "num_trotter_layers = 4\n",
    "angles =jnp.zeros(num_qubits)+0.1\n",
    "angles = angles.at[0].set(0.0)\n",
    "angles = angles.at[1].set(0.0)\n",
    "angles = angles.at[2].set(0.0)\n",
    "angles = angles.at[3].set(0.0)\n",
    "angles = angles.at[4].set(0.0)\n",
    "angles = angles.at[5].set(0.0)\n",
    "target_mpo = xy_mpo(num_qubits, t, num_trotter_layers, max_dim=16)\n",
    "def angle_cost(target_mpo, t, angles):\n",
    "    ''' ||target_mpo - ansatz_mpo|| / 2^(n+1) '''\n",
    "    return 1 - (target_mpo.conj() @ D_Layer(t, angles)).normalized_trace().real\n",
    "\n",
    "angle_cost(target_mpo, t, angles)\n",
    "grad_angle = grad(angle_cost, argnums=(2))\n",
    "grad_angle(target_mpo, t, angles)"
   ]
  },
  {
   "cell_type": "markdown",
   "metadata": {
    "heading_collapsed": true
   },
   "source": [
    "# Stackwise optimization"
   ]
  },
  {
   "cell_type": "code",
   "execution_count": 18,
   "metadata": {
    "ExecuteTime": {
     "end_time": "2023-07-17T21:49:24.106635Z",
     "start_time": "2023-07-17T21:49:24.073610Z"
    },
    "hidden": true
   },
   "outputs": [],
   "source": [
    "from stackwise_train import *"
   ]
  },
  {
   "cell_type": "markdown",
   "metadata": {
    "heading_collapsed": true,
    "hidden": true
   },
   "source": [
    "## Stack cost and derivative"
   ]
  },
  {
   "cell_type": "code",
   "execution_count": 9,
   "metadata": {
    "ExecuteTime": {
     "end_time": "2023-07-07T19:23:10.749655Z",
     "start_time": "2023-07-07T19:23:10.693176Z"
    },
    "hidden": true
   },
   "outputs": [
    {
     "data": {
      "text/plain": [
       "1.5199647096508784e-14"
      ]
     },
     "execution_count": 9,
     "metadata": {},
     "output_type": "execute_result"
    }
   ],
   "source": [
    "# test stack_cost for diagonal stack\n",
    "environment = ansatz.stack_env(target_mpo, 0)\n",
    "stack_cost(angles, environment, t) - (np.linalg.norm(ansatz.mpo().to_matrix() - target_mpo.to_matrix())**2)/ 32"
   ]
  },
  {
   "cell_type": "code",
   "execution_count": 11,
   "metadata": {
    "ExecuteTime": {
     "end_time": "2023-07-07T19:26:02.049477Z",
     "start_time": "2023-07-07T19:26:01.971411Z"
    },
    "hidden": true
   },
   "outputs": [
    {
     "data": {
      "text/plain": [
       "1.5643736306358846e-14"
      ]
     },
     "execution_count": 11,
     "metadata": {},
     "output_type": "execute_result"
    }
   ],
   "source": [
    "# test stack_cost for non-diagonal stack\n",
    "stack_idx = 3\n",
    "env1, env2 = ansatz.stack_env(target_mpo, stack_idx)\n",
    "stack_cost(params[stack_idx-1], env1, env2) - (np.linalg.norm(ansatz.mpo().to_matrix() - target_mpo.to_matrix())**2)/ 32"
   ]
  },
  {
   "cell_type": "code",
   "execution_count": 17,
   "metadata": {
    "ExecuteTime": {
     "end_time": "2023-07-07T19:29:04.530857Z",
     "start_time": "2023-07-07T19:29:04.486005Z"
    },
    "hidden": true
   },
   "outputs": [
    {
     "data": {
      "text/plain": [
       "array([0.00139768, 0.00201162, 0.0001509 , 0.0005454 ])"
      ]
     },
     "execution_count": 17,
     "metadata": {},
     "output_type": "execute_result"
    }
   ],
   "source": [
    "environment = ansatz.stack_env(target_mpo, 0)\n",
    "stack_grad(angles, environment, t)"
   ]
  },
  {
   "cell_type": "code",
   "execution_count": 16,
   "metadata": {
    "ExecuteTime": {
     "end_time": "2023-07-07T19:28:07.529044Z",
     "start_time": "2023-07-07T19:28:07.394022Z"
    },
    "hidden": true
   },
   "outputs": [
    {
     "data": {
      "text/plain": [
       "array([-6.96367969e-05,  1.34792196e-04,  3.36436148e-04, -6.18128971e-04,\n",
       "        1.00152299e-04, -9.90862343e-04,  9.31964751e-04, -1.86763987e-04,\n",
       "       -1.86482477e-04,  6.50025522e-04,  4.99087839e-04, -5.88299226e-05])"
      ]
     },
     "execution_count": 16,
     "metadata": {},
     "output_type": "execute_result"
    }
   ],
   "source": [
    "# test stack_grad\n",
    "stack_idx = 3\n",
    "env1, env2 = ansatz.stack_env(target_mpo, stack_idx)\n",
    "stack_grad(params[stack_idx-1], env1, env2)"
   ]
  },
  {
   "cell_type": "markdown",
   "metadata": {
    "heading_collapsed": true,
    "hidden": true
   },
   "source": [
    "## Stackwise training"
   ]
  },
  {
   "cell_type": "code",
   "execution_count": 19,
   "metadata": {
    "ExecuteTime": {
     "end_time": "2023-07-07T19:36:03.076435Z",
     "start_time": "2023-07-07T19:33:39.697206Z"
    },
    "hidden": true
   },
   "outputs": [
    {
     "name": "stderr",
     "output_type": "stream",
     "text": [
      " 33%|████████████████████████████                                                        | 1/3 [00:57<01:54, 57.28s/it]"
     ]
    },
    {
     "name": "stdout",
     "output_type": "stream",
     "text": [
      "0.028437829940798576 0.028437829940798687\n"
     ]
    },
    {
     "name": "stderr",
     "output_type": "stream",
     "text": [
      "\r",
      " 67%|████████████████████████████████████████████████████████                            | 2/3 [01:36<00:46, 46.44s/it]"
     ]
    },
    {
     "name": "stdout",
     "output_type": "stream",
     "text": [
      "0.01013623094504279 0.010136230945042124\n"
     ]
    },
    {
     "name": "stderr",
     "output_type": "stream",
     "text": [
      "100%|████████████████████████████████████████████████████████████████████████████████████| 3/3 [02:23<00:00, 47.77s/it]"
     ]
    },
    {
     "name": "stdout",
     "output_type": "stream",
     "text": [
      "0.009934937605322158 0.009934937605321714\n"
     ]
    },
    {
     "name": "stderr",
     "output_type": "stream",
     "text": [
      "\n"
     ]
    },
    {
     "data": {
      "text/plain": [
       "([0.02963628805198948,\n",
       "  0.02909621171254617,\n",
       "  0.02844030529846031,\n",
       "  0.028437829940798687,\n",
       "  0.013279325053111801,\n",
       "  0.010141275324740295,\n",
       "  0.010140784562254757,\n",
       "  0.010136230945042124,\n",
       "  0.009935094595761473,\n",
       "  0.009934964565686322,\n",
       "  0.009934947371659897,\n",
       "  0.009934937605321714],\n",
       " [0.02970017378901768,\n",
       "  0.028437829940798576,\n",
       "  0.01013623094504279,\n",
       "  0.009934937605322158],\n",
       " array([-1.99170165e-03, -2.83109493e+00,  2.82950320e+00,  2.03000982e-03]),\n",
       " array([[-7.83889671e-01,  2.59290634e-02,  4.01991522e-02,\n",
       "         -8.66898772e-05,  7.35448929e-02,  8.19807973e-02,\n",
       "         -7.83892892e-01,  4.52516990e-02,  2.00397442e-02,\n",
       "          3.67470103e-03,  8.03002044e-02,  2.65492511e-02],\n",
       "        [ 7.35213344e-02, -3.36273900e-02,  8.05239922e-03,\n",
       "          1.57151173e+00, -1.99996192e-02,  1.03257710e-01,\n",
       "         -6.99571720e-10,  1.03114351e-03, -1.03114352e-03,\n",
       "         -3.90368423e-03, -2.35697751e-02,  5.15847619e-02],\n",
       "        [ 4.46650673e-02,  3.79719731e-02,  7.60365752e-02,\n",
       "          2.77853024e-07,  1.49015651e-02,  1.04147898e-02,\n",
       "          1.28932343e-09,  2.90800177e-02,  9.95240793e-02,\n",
       "          3.93233881e-03,  9.50320958e-02,  5.55958251e-03]]))"
      ]
     },
     "execution_count": 19,
     "metadata": {},
     "output_type": "execute_result"
    }
   ],
   "source": [
    "num_qubits = 4\n",
    "t = 0.1\n",
    "num_trotter_steps = 5\n",
    "num_w_layers = 4\n",
    "max_dim = 16\n",
    "stackwise_train(num_qubits, t, num_trotter_steps, num_w_layers, max_dim=max_dim, num_sweeps=3)"
   ]
  },
  {
   "cell_type": "markdown",
   "metadata": {
    "hidden": true
   },
   "source": [
    "## Stackwise training with noise "
   ]
  },
  {
   "cell_type": "code",
   "execution_count": 20,
   "metadata": {
    "ExecuteTime": {
     "end_time": "2023-07-07T19:39:41.029092Z",
     "start_time": "2023-07-07T19:37:13.686668Z"
    },
    "hidden": true
   },
   "outputs": [
    {
     "name": "stderr",
     "output_type": "stream",
     "text": [
      " 33%|████████████████████████████                                                        | 1/3 [00:59<01:59, 59.85s/it]"
     ]
    },
    {
     "name": "stdout",
     "output_type": "stream",
     "text": [
      "0.02656562275478591 0.026354173868404107\n"
     ]
    },
    {
     "name": "stderr",
     "output_type": "stream",
     "text": [
      "\r",
      " 67%|████████████████████████████████████████████████████████                            | 2/3 [01:45<00:51, 51.25s/it]"
     ]
    },
    {
     "name": "stdout",
     "output_type": "stream",
     "text": [
      "0.01733523887103705 0.017266000011702642\n"
     ]
    },
    {
     "name": "stderr",
     "output_type": "stream",
     "text": [
      "100%|████████████████████████████████████████████████████████████████████████████████████| 3/3 [02:27<00:00, 49.08s/it]"
     ]
    },
    {
     "name": "stdout",
     "output_type": "stream",
     "text": [
      "0.016199865223630372 0.016128695696956852\n"
     ]
    },
    {
     "name": "stderr",
     "output_type": "stream",
     "text": [
      "\n"
     ]
    },
    {
     "data": {
      "text/plain": [
       "([0.028938935904301633,\n",
       "  0.02714555334746538,\n",
       "  0.02664754259724278,\n",
       "  0.026636976617159913,\n",
       "  0.026610658074240012,\n",
       "  0.026513539384511287,\n",
       "  0.026474837153266484,\n",
       "  0.026451356971541662,\n",
       "  0.026363845400986463,\n",
       "  0.026354173868404107,\n",
       "  0.021055136284950038,\n",
       "  0.020828673370719475,\n",
       "  0.019545706690016318,\n",
       "  0.0195414991155205,\n",
       "  0.01953797663460244,\n",
       "  0.01759694186400007,\n",
       "  0.017373632642255332,\n",
       "  0.017364576964040035,\n",
       "  0.017360504914117114,\n",
       "  0.017266000011702642,\n",
       "  0.016576424902841946,\n",
       "  0.01655764374996238,\n",
       "  0.01641822626519107,\n",
       "  0.016366496602161718,\n",
       "  0.016366377214832917,\n",
       "  0.01632271733345214,\n",
       "  0.016244871761674995,\n",
       "  0.0162443915372964,\n",
       "  0.016194750463895957,\n",
       "  0.016128695696956852],\n",
       " [0.029655916701596174,\n",
       "  0.02656562275478591,\n",
       "  0.01733523887103705,\n",
       "  0.016199865223630372],\n",
       " array([ 1.98483550e-03, -1.73023593e+00, -1.77582237e+00,  2.09964163e+00]),\n",
       " array([[ 3.54984236e-06,  6.95504610e-03,  7.87134515e-02,\n",
       "         -6.34672895e-04,  2.94800562e-02,  8.84307754e-02,\n",
       "          1.28479908e+00,  2.59186068e-02, -8.86259507e-02,\n",
       "         -1.20199418e-01,  1.10262679e-02, -4.82685262e-02],\n",
       "        [ 9.17546547e-02,  3.96501199e-02,  7.92198088e-02,\n",
       "          4.64282810e-02,  1.17386935e-01,  1.62459906e-01,\n",
       "          1.28665650e-02,  7.99312553e-03,  4.58910678e-02,\n",
       "          8.38435128e-02, -3.35606819e-02,  4.38873099e-02],\n",
       "        [-4.35240958e-06,  8.77271122e-02,  7.99337775e-02,\n",
       "         -2.26550130e-04,  1.49383023e-03,  7.86953051e-02,\n",
       "         -4.77979023e-02,  1.78532660e-01,  1.05809633e-01,\n",
       "          1.02187668e-01,  3.77639023e-02,  7.06132672e-02],\n",
       "        [ 2.12237136e-02,  8.23498747e-02,  4.75312251e-03,\n",
       "          5.51979408e-01,  1.42078125e-01,  1.66249115e-01,\n",
       "         -4.89890291e-02, -4.32256574e-02, -1.04417574e-01,\n",
       "         -8.57798430e-02,  1.46854105e-01,  1.18281287e-01],\n",
       "        [ 6.50752307e-06,  4.18677893e-02,  8.99511944e-02,\n",
       "          5.03293731e-04,  3.29206201e-02,  1.66964013e-02,\n",
       "          1.68372564e-01,  3.56788311e-01, -1.59955332e-01,\n",
       "          8.16873115e-03,  5.61894873e-02,  6.87409128e-02],\n",
       "        [ 6.34390120e-02,  8.56287625e-02,  9.97898654e-02,\n",
       "          1.87823229e-01,  8.56452036e-02,  1.70923408e-01,\n",
       "          4.24229441e-02,  2.96588249e-02,  6.48262571e-02,\n",
       "          5.29761546e-03,  2.29770071e-01,  2.29893499e-01],\n",
       "        [-1.35590382e-06,  4.07332010e-02,  6.13588849e-02,\n",
       "          2.84217357e-05, -4.16708848e-02, -3.92822705e-04,\n",
       "          1.04568122e+00,  9.52120132e-01, -6.67321918e-01,\n",
       "          2.99809424e-03, -5.73039690e-02, -5.18252399e-02],\n",
       "        [ 1.26719002e-02,  5.79855922e-02,  1.44176966e-02,\n",
       "          1.21819128e+00,  2.21147844e+00, -5.41636014e-01,\n",
       "         -7.23314699e-03, -5.21521560e-04, -8.65440093e-03,\n",
       "         -3.02253371e-02,  4.02497759e-02,  1.78152526e-02],\n",
       "        [ 7.71490687e-02,  4.98357770e-02,  8.79403188e-03,\n",
       "          3.69626496e-03,  8.60925893e-02,  8.28381491e-02,\n",
       "          5.48154359e-03,  8.63372731e-02,  1.16065147e-01,\n",
       "          3.69733626e-02,  8.41838530e-02,  1.56476471e-02]]))"
      ]
     },
     "execution_count": 20,
     "metadata": {},
     "output_type": "execute_result"
    }
   ],
   "source": [
    "num_qubits = 4\n",
    "t = 0.1\n",
    "num_trotter_steps = 5\n",
    "num_w_layers = 4\n",
    "max_dim = 4\n",
    "stackwise_train(num_qubits, t, num_trotter_steps, num_w_layers, max_dim=max_dim, num_sweeps=3)"
   ]
  }
 ],
 "metadata": {
  "kernelspec": {
   "display_name": "Python 3",
   "language": "python",
   "name": "python3"
  },
  "language_info": {
   "codemirror_mode": {
    "name": "ipython",
    "version": 3
   },
   "file_extension": ".py",
   "mimetype": "text/x-python",
   "name": "python",
   "nbconvert_exporter": "python",
   "pygments_lexer": "ipython3",
   "version": "3.6.5"
  },
  "toc": {
   "base_numbering": 1,
   "nav_menu": {},
   "number_sections": true,
   "sideBar": true,
   "skip_h1_title": false,
   "title_cell": "Table of Contents",
   "title_sidebar": "Contents",
   "toc_cell": false,
   "toc_position": {},
   "toc_section_display": true,
   "toc_window_display": false
  }
 },
 "nbformat": 4,
 "nbformat_minor": 5
}
